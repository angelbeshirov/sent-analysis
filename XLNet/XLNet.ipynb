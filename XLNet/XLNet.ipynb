{
 "cells": [
  {
   "cell_type": "code",
   "execution_count": 1,
   "metadata": {},
   "outputs": [],
   "source": [
    "import sys\n",
    "\n",
    "import numpy as np\n",
    "import pandas as pd\n",
    "import matplotlib.pyplot as plt\n",
    "import seaborn as sn\n",
    "\n",
    "import csv\n",
    "\n",
    "from sklearn.metrics import confusion_matrix\n",
    "from sklearn import metrics\n",
    "from sklearn.preprocessing import LabelEncoder\n",
    "from sklearn.model_selection import train_test_split"
   ]
  },
  {
   "cell_type": "code",
   "execution_count": 2,
   "metadata": {},
   "outputs": [],
   "source": [
    "filename_test_binary = \"glue_data/SST-2/test.tsv\"\n",
    "filename_test_fine_grained = \"glue_data/SST-5/test.tsv\""
   ]
  },
  {
   "cell_type": "code",
   "execution_count": 3,
   "metadata": {},
   "outputs": [],
   "source": [
    "def get_labels_and_sentences(tsvfile):\n",
    "    labels = []\n",
    "    sentences = []\n",
    "    with open(tsvfile, mode ='r') as file_to_read: \n",
    "        file = csv.reader(file_to_read, delimiter='\\t') \n",
    "        for idx, line in enumerate(file):\n",
    "            if idx == 0:\n",
    "                continue\n",
    "            labels.append(line[0])\n",
    "            sentences.append(line[1])\n",
    "            \n",
    "    return labels, sentences"
   ]
  },
  {
   "cell_type": "code",
   "execution_count": 4,
   "metadata": {},
   "outputs": [
    {
     "name": "stdout",
     "output_type": "stream",
     "text": [
      "2210\n"
     ]
    }
   ],
   "source": [
    "binary_labels, binary_sentences = get_labels_and_sentences(filename_test_binary)\n",
    "fg_labels, fg_sentences = get_labels_and_sentences(filename_test_fine_grained)\n",
    "\n",
    "print(len(binary_labels))"
   ]
  },
  {
   "cell_type": "code",
   "execution_count": 5,
   "metadata": {},
   "outputs": [
    {
     "name": "stdout",
     "output_type": "stream",
     "text": [
      "2210\n",
      "[[1137  164]\n",
      " [  77  832]]\n",
      "Accuracy for SST-2 root nodes 0.890950226244344\n"
     ]
    },
    {
     "data": {
      "image/png": "[encoded data removed]",
      "text/plain": [
       "<Figure size 720x504 with 2 Axes>"
      ]
     },
     "metadata": {
      "needs_background": "light"
     },
     "output_type": "display_data"
    }
   ],
   "source": [
    "path_to_binary_result = \"xlnet_binary/sst2.tsv\"\n",
    "\n",
    "label_results=[]\n",
    "pd.DataFrame()\n",
    "\n",
    "with open(path_to_binary_result) as file:\n",
    "    result = csv.reader(file, delimiter=\"\\t\")\n",
    "    for idx, row in enumerate(result):\n",
    "        if idx == 0:\n",
    "            continue\n",
    "        label_results.append(int(round(float(row[1]))))\n",
    "\n",
    "print(len(label_results))\n",
    "df_results=pd.DataFrame()\n",
    "df_results=pd.DataFrame(label_results)\n",
    "df_results[0]\n",
    "\n",
    "for i in range(0, len(binary_labels)): \n",
    "     binary_labels[i] = int(binary_labels[i])\n",
    "\n",
    "cm = confusion_matrix(binary_labels, df_results[0])\n",
    "df_cm = pd.DataFrame(cm, index = [i for i in \"01\"],\n",
    "                  columns = [i for i in \"01\"])\n",
    "print(cm)\n",
    "plt.figure(figsize = (10,7))\n",
    "sn.heatmap(df_cm, annot=True)\n",
    "\n",
    "print(\"Accuracy for SST-2 root nodes\", metrics.accuracy_score(binary_labels, df_results[0]))"
   ]
  },
  {
   "cell_type": "code",
   "execution_count": 6,
   "metadata": {},
   "outputs": [
    {
     "name": "stdout",
     "output_type": "stream",
     "text": [
      "2210\n",
      "[[115 133  26   5   0]\n",
      " [ 91 333 173  35   1]\n",
      " [  9 105 166  98  11]\n",
      " [  0  12  64 284 150]\n",
      " [  0   0  15  96 288]]\n",
      "Accuracy for SST-5 root nodes 0.5366515837104072\n"
     ]
    },
    {
     "data": {
      "image/png": "[encoded data removed]",
      "text/plain": [
       "<Figure size 720x504 with 2 Axes>"
      ]
     },
     "metadata": {
      "needs_background": "light"
     },
     "output_type": "display_data"
    }
   ],
   "source": [
    "path_to_binary_result = \"xlnet_fine_grained/sst5.tsv\"\n",
    "\n",
    "label_results=[]\n",
    "pd.DataFrame()\n",
    "\n",
    "with open(path_to_binary_result) as file:\n",
    "    result = csv.reader(file, delimiter=\"\\t\")\n",
    "    for idx, row in enumerate(result):\n",
    "        if idx == 0:\n",
    "            continue\n",
    "        label_results.append(int(round(float(row[1]))))\n",
    "\n",
    "print(len(label_results))\n",
    "df_results=pd.DataFrame()\n",
    "df_results=pd.DataFrame(label_results)\n",
    "df_results[0]\n",
    "\n",
    "for i in range(0, len(fg_labels)): \n",
    "     fg_labels[i] = int(fg_labels[i])\n",
    "\n",
    "cm = confusion_matrix(fg_labels, df_results[0])\n",
    "df_cm = pd.DataFrame(cm, index = [i for i in \"01234\"],\n",
    "                  columns = [i for i in \"01234\"])\n",
    "print(cm)\n",
    "plt.figure(figsize = (10,7))\n",
    "sn.heatmap(df_cm, annot=True)\n",
    "\n",
    "print(\"Accuracy for SST-5 root nodes\", metrics.accuracy_score(fg_labels, df_results[0]))"
   ]
  },
  {
   "cell_type": "code",
   "execution_count": null,
   "metadata": {},
   "outputs": [],
   "source": []
  }
 ],
 "metadata": {
  "kernelspec": {
   "display_name": "Python 3",
   "language": "python",
   "name": "python3"
  },
  "language_info": {
   "codemirror_mode": {
    "name": "ipython",
    "version": 3
   },
   "file_extension": ".py",
   "mimetype": "text/x-python",
   "name": "python",
   "nbconvert_exporter": "python",
   "pygments_lexer": "ipython3",
   "version": "3.6.9"
  }
 },
 "nbformat": 4,
 "nbformat_minor": 2
}
