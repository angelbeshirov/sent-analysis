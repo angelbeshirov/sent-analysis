{
  "nbformat": 4,
  "nbformat_minor": 0,
  "metadata": {
    "colab": {
      "name": "XLNet_for_sst2_and_sst5.ipynb",
      "provenance": [],
      "collapsed_sections": [],
      "toc_visible": true
    },
    "kernelspec": {
      "name": "python3",
      "display_name": "Python 3"
    },
    "accelerator": "GPU"
  },
  "cells": [
    {
      "cell_type": "code",
      "metadata": {
        "id": "n5k6lTMGpFlc",
        "colab_type": "code",
        "colab": {
          "base_uri": "https://localhost:8080/",
          "height": 35
        },
        "outputId": "7839b3bc-f565-4049-b892-7093f7255cd4"
      },
      "source": [
        "import tensorflow as tf\n",
        "tf.test.gpu_device_name()"
      ],
      "execution_count": null,
      "outputs": [
        {
          "output_type": "execute_result",
          "data": {
            "application/vnd.google.colaboratory.intrinsic": {
              "type": "string"
            },
            "text/plain": [
              "'/device:GPU:0'"
            ]
          },
          "metadata": {
            "tags": []
          },
          "execution_count": 22
        }
      ]
    },
    {
      "cell_type": "code",
      "metadata": {
        "id": "geMSsmLXpoFr",
        "colab_type": "code",
        "colab": {}
      },
      "source": [
        "# Use https://www.dropbox.com/h for transfer from local to colab\n",
        "\n",
        "! pip install sentencepiece"
      ],
      "execution_count": null,
      "outputs": []
    },
    {
      "cell_type": "code",
      "metadata": {
        "id": "m4QVKi6MqL4h",
        "colab_type": "code",
        "colab": {}
      },
      "source": [
        "! wget https://storage.googleapis.com/xlnet/released_models/cased_L-12_H-768_A-12.zip"
      ],
      "execution_count": null,
      "outputs": []
    },
    {
      "cell_type": "code",
      "metadata": {
        "id": "h-IUHofor3i0",
        "colab_type": "code",
        "colab": {}
      },
      "source": [
        "! unzip cased_L-12_H-768_A-12.zip"
      ],
      "execution_count": null,
      "outputs": []
    },
    {
      "cell_type": "code",
      "metadata": {
        "id": "9dpNrUJDsFxi",
        "colab_type": "code",
        "colab": {}
      },
      "source": [
        "! wget https://www.dropbox.com/s/7yy60mjwgrcmv94/requirements.txt"
      ],
      "execution_count": null,
      "outputs": []
    },
    {
      "cell_type": "code",
      "metadata": {
        "id": "NxOFisI7uBeE",
        "colab_type": "code",
        "colab": {}
      },
      "source": [
        "! wget https://www.dropbox.com/s/rbvip5n0i6hj29j/glue_data.tar.xz"
      ],
      "execution_count": null,
      "outputs": []
    },
    {
      "cell_type": "code",
      "metadata": {
        "id": "O4XcLd2J1awc",
        "colab_type": "code",
        "colab": {}
      },
      "source": [
        "! tar -xf glue_data.tar.xz"
      ],
      "execution_count": null,
      "outputs": []
    },
    {
      "cell_type": "code",
      "metadata": {
        "id": "zHwP19fU2N5N",
        "colab_type": "code",
        "colab": {
          "base_uri": "https://localhost:8080/",
          "height": 86
        },
        "outputId": "80280f80-8e83-4e6d-adf3-ef975ee039f5"
      },
      "source": [
        "! ls"
      ],
      "execution_count": null,
      "outputs": [
        {
          "output_type": "stream",
          "text": [
            "cased_L-12_H-768_A-12.zip  requirements.txt\t\txlnet_repo\n",
            "glue_data\t\t   sample_data\t\t\txlnet_repo.zip\n",
            "glue_data.tar.xz\t   xlnet_cased_L-12_H-768_A-12\n",
            "model_dir\t\t   xlnet_output\n"
          ],
          "name": "stdout"
        }
      ]
    },
    {
      "cell_type": "code",
      "metadata": {
        "id": "Xgzjc3uY1hJU",
        "colab_type": "code",
        "colab": {}
      },
      "source": [
        "! wget https://www.dropbox.com/s/g6an3fm385fkp9n/xlnet_repo.zip"
      ],
      "execution_count": null,
      "outputs": []
    },
    {
      "cell_type": "code",
      "metadata": {
        "id": "HLAYvH7r1nys",
        "colab_type": "code",
        "colab": {}
      },
      "source": [
        "! unzip xlnet_repo.zip"
      ],
      "execution_count": null,
      "outputs": []
    },
    {
      "cell_type": "code",
      "metadata": {
        "id": "7ZfJ8HYXxJhT",
        "colab_type": "code",
        "colab": {}
      },
      "source": [
        "! rm xlnet_output/spiece.model.len-128.train.tf_record"
      ],
      "execution_count": null,
      "outputs": []
    },
    {
      "cell_type": "code",
      "metadata": {
        "id": "f7cGfIfvyMYH",
        "colab_type": "code",
        "colab": {}
      },
      "source": [
        "XLNET_BASE_DIR='xlnet_cased_L-12_H-768_A-12'\n",
        "DATA_DIR='glue_data/SST-5'\n",
        "TRAINED_CLASSIFIER='xlnet_repo/xlnet_cased_L-12_H-768_A-12/xlnet_model.ckpt'\n",
        "TASK_NAME='sst5'"
      ],
      "execution_count": null,
      "outputs": []
    },
    {
      "cell_type": "code",
      "metadata": {
        "id": "atgYmPxI7cgx",
        "colab_type": "code",
        "colab": {}
      },
      "source": [
        "! pip install tensorflow-gpu==1.15"
      ],
      "execution_count": null,
      "outputs": []
    },
    {
      "cell_type": "code",
      "metadata": {
        "id": "STfvJK8dywHJ",
        "colab_type": "code",
        "colab": {}
      },
      "source": [
        "! pip install -r requirements.txt"
      ],
      "execution_count": null,
      "outputs": []
    },
    {
      "cell_type": "code",
      "metadata": {
        "id": "A3c-79goybRV",
        "colab_type": "code",
        "colab": {}
      },
      "source": [
        "train_command = \"CUDA_VISIBLE_DEVICES=0 python xlnet_repo/run_classifier.py \\\n",
        "  --do_train=True \\\n",
        "  --do_eval=False \\\n",
        "  --task_name=\"+TASK_NAME+\" \\\n",
        "  --data_dir=\"+DATA_DIR+\" \\\n",
        "  --model_dir=model_dir_1 \\\n",
        "  --spiece_model_file=\"+XLNET_BASE_DIR+\"/spiece.model \\\n",
        "  --model_config_path=\"+XLNET_BASE_DIR+\"/xlnet_config.json \\\n",
        "  --init_checkpoint=\"+XLNET_BASE_DIR+\"/xlnet_model.ckpt \\\n",
        "  --max_seq_length=128 \\\n",
        "  --train_batch_size=16 \\\n",
        "  --eval_batch_size=8 \\\n",
        "  --num_hosts=1 \\\n",
        "  --num_core_per_host=1 \\\n",
        "  --learning_rate=2e-5 \\\n",
        "  --train_steps=6000 \\\n",
        "  --warmup_steps=500 \\\n",
        "  --save_steps=2000 \\\n",
        "  --iteration=500 \\\n",
        "  --is_regression=True \\\n",
        "  --output_dir=xlnet_output_sst5/\"\n",
        "\n",
        "! {train_command}"
      ],
      "execution_count": null,
      "outputs": []
    },
    {
      "cell_type": "code",
      "metadata": {
        "id": "bkGHMHBmLj0m",
        "colab_type": "code",
        "colab": {}
      },
      "source": [
        "! rm model_dir/model.ckpt-600.data-00000-of-00001"
      ],
      "execution_count": null,
      "outputs": []
    },
    {
      "cell_type": "code",
      "metadata": {
        "id": "YCitjJSQyysr",
        "colab_type": "code",
        "colab": {}
      },
      "source": [
        "XLNET_BASE_DIR='xlnet_cased_L-12_H-768_A-12'\n",
        "DATA_DIR='glue_data/SST-2'\n",
        "TRAINED_CLASSIFIER='xlnet_repo/xlnet_cased_L-12_H-768_A-12/xlnet_model.ckpt'\n",
        "TASK_NAME='sst2'\n",
        "TRAINED_DIR='model_dir'"
      ],
      "execution_count": null,
      "outputs": []
    },
    {
      "cell_type": "code",
      "metadata": {
        "id": "b95I6TR8y0SL",
        "colab_type": "code",
        "colab": {}
      },
      "source": [
        "test_command_sst2 = \"CUDA_VISIBLE_DEVICES=0 python xlnet_repo/run_classifier.py \\\n",
        "  --do_predict=True \\\n",
        "  --task_name=\"+TASK_NAME+\" \\\n",
        "  --data_dir=\"+DATA_DIR+\" \\\n",
        "  --model_dir=\"+TRAINED_DIR+\" \\\n",
        "  --spiece_model_file=\"+XLNET_BASE_DIR+\"/spiece.model \\\n",
        "  --model_config_path=\"+XLNET_BASE_DIR+\"/xlnet_config.json \\\n",
        "  --init_checkpoint=\"+TRAINED_DIR+\"/model.ckpt-4000 \\\n",
        "  --max_seq_length=128 \\\n",
        "  --train_batch_size=16 \\\n",
        "  --eval_batch_size=8 \\\n",
        "  --num_hosts=1 \\\n",
        "  --num_core_per_host=1 \\\n",
        "  --eval_split=test \\\n",
        "  --is_regression=True \\\n",
        "  --predict_dir=xlnet_output/\"\n",
        "\n",
        "\n",
        "! {test_command_sst2}"
      ],
      "execution_count": null,
      "outputs": []
    },
    {
      "cell_type": "code",
      "metadata": {
        "id": "a0nE80aK8SvA",
        "colab_type": "code",
        "colab": {}
      },
      "source": [
        "XLNET_BASE_DIR='xlnet_cased_L-12_H-768_A-12'\n",
        "DATA_DIR='glue_data/SST-5'\n",
        "TRAINED_CLASSIFIER='xlnet_repo/xlnet_cased_L-12_H-768_A-12/xlnet_model.ckpt'\n",
        "TASK_NAME='sst5'\n",
        "TRAINED_DIR='model_dir_sst5'"
      ],
      "execution_count": null,
      "outputs": []
    },
    {
      "cell_type": "code",
      "metadata": {
        "id": "7yqQ5h_Q8OQK",
        "colab_type": "code",
        "colab": {
          "base_uri": "https://localhost:8080/",
          "height": 1000
        },
        "outputId": "1d2189eb-e8b2-4bfe-9527-bf4654feb3f9"
      },
      "source": [
        "test_command_sst5 = \"CUDA_VISIBLE_DEVICES=0 python xlnet_repo/run_classifier.py \\\n",
        "  --do_predict=True \\\n",
        "  --task_name=\"+TASK_NAME+\" \\\n",
        "  --data_dir=\"+DATA_DIR+\" \\\n",
        "  --model_dir=\"+TRAINED_DIR+\" \\\n",
        "  --spiece_model_file=\"+XLNET_BASE_DIR+\"/spiece.model \\\n",
        "  --model_config_path=\"+XLNET_BASE_DIR+\"/xlnet_config.json \\\n",
        "  --init_checkpoint=\"+TRAINED_DIR+\"/model.ckpt-6000 \\\n",
        "  --max_seq_length=128 \\\n",
        "  --train_batch_size=16 \\\n",
        "  --eval_batch_size=8 \\\n",
        "  --num_hosts=1 \\\n",
        "  --num_core_per_host=1 \\\n",
        "  --eval_split=test \\\n",
        "  --is_regression=True \\\n",
        "  --predict_dir=xlnet_output/\"\n",
        "\n",
        "\n",
        "! {test_command_sst5}"
      ],
      "execution_count": 57,
      "outputs": [
        {
          "output_type": "stream",
          "text": [
            "WARNING: Logging before flag parsing goes to stderr.\n",
            "W0720 08:46:25.367712 139958602311552 module_wrapper.py:139] From /content/xlnet_repo/model_utils.py:295: The name tf.train.Optimizer is deprecated. Please use tf.compat.v1.train.Optimizer instead.\n",
            "\n",
            "W0720 08:46:25.370510 139958602311552 module_wrapper.py:139] From xlnet_repo/run_classifier.py:939: The name tf.app.run is deprecated. Please use tf.compat.v1.app.run instead.\n",
            "\n",
            "W0720 08:46:25.371246 139958602311552 module_wrapper.py:139] From xlnet_repo/run_classifier.py:719: The name tf.logging.set_verbosity is deprecated. Please use tf.compat.v1.logging.set_verbosity instead.\n",
            "\n",
            "W0720 08:46:25.371415 139958602311552 module_wrapper.py:139] From xlnet_repo/run_classifier.py:719: The name tf.logging.INFO is deprecated. Please use tf.compat.v1.logging.INFO instead.\n",
            "\n",
            "W0720 08:46:25.371584 139958602311552 module_wrapper.py:139] From xlnet_repo/run_classifier.py:727: The name tf.gfile.Exists is deprecated. Please use tf.io.gfile.exists instead.\n",
            "\n",
            "W0720 08:46:25.371791 139958602311552 module_wrapper.py:139] From xlnet_repo/run_classifier.py:746: The name tf.gfile.MakeDirs is deprecated. Please use tf.io.gfile.makedirs instead.\n",
            "\n",
            "W0720 08:46:25.426403 139958602311552 module_wrapper.py:139] From /content/xlnet_repo/model_utils.py:27: The name tf.ConfigProto is deprecated. Please use tf.compat.v1.ConfigProto instead.\n",
            "\n",
            "W0720 08:46:25.426622 139958602311552 module_wrapper.py:139] From /content/xlnet_repo/model_utils.py:36: The name tf.logging.info is deprecated. Please use tf.compat.v1.logging.info instead.\n",
            "\n",
            "I0720 08:46:25.426728 139958602311552 model_utils.py:36] Single device mode.\n",
            "W0720 08:46:25.426913 139958602311552 lazy_loader.py:50] \n",
            "The TensorFlow contrib module will not be included in TensorFlow 2.0.\n",
            "For more information, please see:\n",
            "  * https://github.com/tensorflow/community/blob/master/rfcs/20180907-contrib-sunset.md\n",
            "  * https://github.com/tensorflow/addons\n",
            "  * https://github.com/tensorflow/io (for I/O related ops)\n",
            "If you depend on functionality not listed there, please file an issue.\n",
            "\n",
            "I0720 08:46:26.085746 139958602311552 utils.py:141] NumExpr defaulting to 2 threads.\n",
            "I0720 08:46:26.482839 139958602311552 estimator.py:212] Using config: {'_model_dir': 'model_dir_sst5', '_tf_random_seed': None, '_save_summary_steps': 100, '_save_checkpoints_steps': None, '_save_checkpoints_secs': None, '_session_config': allow_soft_placement: true\n",
            ", '_keep_checkpoint_max': 0, '_keep_checkpoint_every_n_hours': 10000, '_log_step_count_steps': 100, '_train_distribute': None, '_device_fn': None, '_protocol': None, '_eval_distribute': None, '_experimental_distribute': None, '_experimental_max_worker_delay_secs': None, '_session_creation_timeout_secs': 7200, '_service': None, '_cluster_spec': <tensorflow.python.training.server_lib.ClusterSpec object at 0x7f4a43e2af60>, '_task_type': 'worker', '_task_id': 0, '_global_id_in_cluster': 0, '_master': '', '_evaluation_master': '', '_is_chief': True, '_num_ps_replicas': 0, '_num_worker_replicas': 1, '_tpu_config': TPUConfig(iterations_per_loop=1000, num_shards=1, num_cores_per_replica=None, per_host_input_for_training=3, tpu_job_name=None, initial_infeed_sleep_secs=None, input_partition_dims=None, eval_training_input_configuration=2, experimental_host_call_every_n_steps=1), '_cluster': None}\n",
            "W0720 08:46:26.483741 139958602311552 model_fn.py:630] Estimator's model_fn (<function get_model_fn.<locals>.model_fn at 0x7f4a43e32400>) includes params argument, but params are not passed to Estimator.\n",
            "W0720 08:46:26.484419 139958602311552 module_wrapper.py:139] From xlnet_repo/run_classifier.py:186: The name tf.gfile.Open is deprecated. Please use tf.io.gfile.GFile instead.\n",
            "\n",
            "I0720 08:46:26.497797 139958602311552 run_classifier.py:811] Num of eval samples: 2210\n",
            "I0720 08:46:26.497982 139958602311552 run_classifier.py:484] Do not overwrite tfrecord spiece.model.len-128.test.predict.tf_record exists.\n",
            "W0720 08:46:26.498148 139958602311552 module_wrapper.py:139] From xlnet_repo/run_classifier.py:532: The name tf.FixedLenFeature is deprecated. Please use tf.io.FixedLenFeature instead.\n",
            "\n",
            "I0720 08:46:26.498316 139958602311552 run_classifier.py:541] Input tfrecord file spiece.model.len-128.test.predict.tf_record\n",
            "W0720 08:46:26.526932 139958602311552 deprecation.py:323] From xlnet_repo/run_classifier.py:586: map_and_batch (from tensorflow.contrib.data.python.ops.batching) is deprecated and will be removed in a future version.\n",
            "Instructions for updating:\n",
            "Use `tf.data.experimental.map_and_batch(...)`.\n",
            "W0720 08:46:26.527098 139958602311552 deprecation.py:323] From /usr/local/lib/python3.6/dist-packages/tensorflow_core/contrib/data/python/ops/batching.py:276: map_and_batch (from tensorflow.python.data.experimental.ops.batching) is deprecated and will be removed in a future version.\n",
            "Instructions for updating:\n",
            "Use `tf.data.Dataset.map(map_func, num_parallel_calls)` followed by `tf.data.Dataset.batch(batch_size, drop_remainder)`. Static tf.data optimizations will take care of using the fused implementation.\n",
            "W0720 08:46:26.591743 139958602311552 module_wrapper.py:139] From /usr/local/lib/python3.6/dist-packages/tensorflow_core/python/autograph/converters/directives.py:119: The name tf.parse_single_example is deprecated. Please use tf.io.parse_single_example instead.\n",
            "\n",
            "I0720 08:46:26.819079 139958602311552 estimator.py:1148] Calling model_fn.\n",
            "W0720 08:46:26.829209 139958602311552 module_wrapper.py:139] From /content/xlnet_repo/xlnet.py:220: The name tf.variable_scope is deprecated. Please use tf.compat.v1.variable_scope instead.\n",
            "\n",
            "W0720 08:46:26.829472 139958602311552 module_wrapper.py:139] From /content/xlnet_repo/xlnet.py:220: The name tf.AUTO_REUSE is deprecated. Please use tf.compat.v1.AUTO_REUSE instead.\n",
            "\n",
            "I0720 08:46:26.829725 139958602311552 modeling.py:453] memory input None\n",
            "I0720 08:46:26.829850 139958602311552 modeling.py:455] Use float type <dtype: 'float32'>\n",
            "W0720 08:46:26.830121 139958602311552 module_wrapper.py:139] From /content/xlnet_repo/modeling.py:460: The name tf.get_variable is deprecated. Please use tf.compat.v1.get_variable instead.\n",
            "\n",
            "W0720 08:46:26.899040 139958602311552 deprecation.py:323] From /content/xlnet_repo/modeling.py:535: dropout (from tensorflow.python.layers.core) is deprecated and will be removed in a future version.\n",
            "Instructions for updating:\n",
            "Use keras.layers.dropout instead.\n",
            "W0720 08:46:26.899706 139958602311552 deprecation.py:323] From /usr/local/lib/python3.6/dist-packages/tensorflow_core/python/layers/core.py:271: Layer.apply (from tensorflow.python.keras.engine.base_layer) is deprecated and will be removed in a future version.\n",
            "Instructions for updating:\n",
            "Please use `layer.__call__` method instead.\n",
            "W0720 08:46:27.281704 139958602311552 deprecation.py:323] From /content/xlnet_repo/modeling.py:67: dense (from tensorflow.python.layers.core) is deprecated and will be removed in a future version.\n",
            "Instructions for updating:\n",
            "Use keras.layers.Dense instead.\n",
            "W0720 08:46:32.092584 139958602311552 module_wrapper.py:139] From xlnet_repo/run_classifier.py:608: The name tf.trainable_variables is deprecated. Please use tf.compat.v1.trainable_variables instead.\n",
            "\n",
            "I0720 08:46:32.099714 139958602311552 run_classifier.py:609] #params: 117308929\n",
            "I0720 08:46:32.099886 139958602311552 model_utils.py:71] Initialize from the ckpt model_dir_sst5/model.ckpt-6000\n",
            "W0720 08:46:32.103192 139958602311552 module_wrapper.py:139] From /content/xlnet_repo/model_utils.py:82: The name tf.train.init_from_checkpoint is deprecated. Please use tf.compat.v1.train.init_from_checkpoint instead.\n",
            "\n",
            "I0720 08:46:32.690648 139958602311552 model_utils.py:85] **** Global Variables ****\n",
            "I0720 08:46:32.690856 139958602311552 model_utils.py:91]   name = model/transformer/r_w_bias:0, shape = (12, 12, 64), *INIT_FROM_CKPT*\n",
            "I0720 08:46:32.691041 139958602311552 model_utils.py:91]   name = model/transformer/r_r_bias:0, shape = (12, 12, 64), *INIT_FROM_CKPT*\n",
            "I0720 08:46:32.691174 139958602311552 model_utils.py:91]   name = model/transformer/word_embedding/lookup_table:0, shape = (32000, 768), *INIT_FROM_CKPT*\n",
            "I0720 08:46:32.691300 139958602311552 model_utils.py:91]   name = model/transformer/r_s_bias:0, shape = (12, 12, 64), *INIT_FROM_CKPT*\n",
            "I0720 08:46:32.691420 139958602311552 model_utils.py:91]   name = model/transformer/seg_embed:0, shape = (12, 2, 12, 64), *INIT_FROM_CKPT*\n",
            "I0720 08:46:32.691549 139958602311552 model_utils.py:91]   name = model/transformer/layer_0/rel_attn/q/kernel:0, shape = (768, 12, 64), *INIT_FROM_CKPT*\n",
            "I0720 08:46:32.691668 139958602311552 model_utils.py:91]   name = model/transformer/layer_0/rel_attn/k/kernel:0, shape = (768, 12, 64), *INIT_FROM_CKPT*\n",
            "I0720 08:46:32.691784 139958602311552 model_utils.py:91]   name = model/transformer/layer_0/rel_attn/v/kernel:0, shape = (768, 12, 64), *INIT_FROM_CKPT*\n",
            "I0720 08:46:32.691921 139958602311552 model_utils.py:91]   name = model/transformer/layer_0/rel_attn/r/kernel:0, shape = (768, 12, 64), *INIT_FROM_CKPT*\n",
            "I0720 08:46:32.692034 139958602311552 model_utils.py:91]   name = model/transformer/layer_0/rel_attn/o/kernel:0, shape = (768, 12, 64), *INIT_FROM_CKPT*\n",
            "I0720 08:46:32.692148 139958602311552 model_utils.py:91]   name = model/transformer/layer_0/rel_attn/LayerNorm/beta:0, shape = (768,), *INIT_FROM_CKPT*\n",
            "I0720 08:46:32.692260 139958602311552 model_utils.py:91]   name = model/transformer/layer_0/rel_attn/LayerNorm/gamma:0, shape = (768,), *INIT_FROM_CKPT*\n",
            "I0720 08:46:32.692382 139958602311552 model_utils.py:91]   name = model/transformer/layer_0/ff/layer_1/kernel:0, shape = (768, 3072), *INIT_FROM_CKPT*\n",
            "I0720 08:46:32.692519 139958602311552 model_utils.py:91]   name = model/transformer/layer_0/ff/layer_1/bias:0, shape = (3072,), *INIT_FROM_CKPT*\n",
            "I0720 08:46:32.692688 139958602311552 model_utils.py:91]   name = model/transformer/layer_0/ff/layer_2/kernel:0, shape = (3072, 768), *INIT_FROM_CKPT*\n",
            "I0720 08:46:32.692807 139958602311552 model_utils.py:91]   name = model/transformer/layer_0/ff/layer_2/bias:0, shape = (768,), *INIT_FROM_CKPT*\n",
            "I0720 08:46:32.692937 139958602311552 model_utils.py:91]   name = model/transformer/layer_0/ff/LayerNorm/beta:0, shape = (768,), *INIT_FROM_CKPT*\n",
            "I0720 08:46:32.693046 139958602311552 model_utils.py:91]   name = model/transformer/layer_0/ff/LayerNorm/gamma:0, shape = (768,), *INIT_FROM_CKPT*\n",
            "I0720 08:46:32.693155 139958602311552 model_utils.py:91]   name = model/transformer/layer_1/rel_attn/q/kernel:0, shape = (768, 12, 64), *INIT_FROM_CKPT*\n",
            "I0720 08:46:32.693268 139958602311552 model_utils.py:91]   name = model/transformer/layer_1/rel_attn/k/kernel:0, shape = (768, 12, 64), *INIT_FROM_CKPT*\n",
            "I0720 08:46:32.693381 139958602311552 model_utils.py:91]   name = model/transformer/layer_1/rel_attn/v/kernel:0, shape = (768, 12, 64), *INIT_FROM_CKPT*\n",
            "I0720 08:46:32.693501 139958602311552 model_utils.py:91]   name = model/transformer/layer_1/rel_attn/r/kernel:0, shape = (768, 12, 64), *INIT_FROM_CKPT*\n",
            "I0720 08:46:32.693613 139958602311552 model_utils.py:91]   name = model/transformer/layer_1/rel_attn/o/kernel:0, shape = (768, 12, 64), *INIT_FROM_CKPT*\n",
            "I0720 08:46:32.693725 139958602311552 model_utils.py:91]   name = model/transformer/layer_1/rel_attn/LayerNorm/beta:0, shape = (768,), *INIT_FROM_CKPT*\n",
            "I0720 08:46:32.693849 139958602311552 model_utils.py:91]   name = model/transformer/layer_1/rel_attn/LayerNorm/gamma:0, shape = (768,), *INIT_FROM_CKPT*\n",
            "I0720 08:46:32.694003 139958602311552 model_utils.py:91]   name = model/transformer/layer_1/ff/layer_1/kernel:0, shape = (768, 3072), *INIT_FROM_CKPT*\n",
            "I0720 08:46:32.694117 139958602311552 model_utils.py:91]   name = model/transformer/layer_1/ff/layer_1/bias:0, shape = (3072,), *INIT_FROM_CKPT*\n",
            "I0720 08:46:32.694240 139958602311552 model_utils.py:91]   name = model/transformer/layer_1/ff/layer_2/kernel:0, shape = (3072, 768), *INIT_FROM_CKPT*\n",
            "I0720 08:46:32.694354 139958602311552 model_utils.py:91]   name = model/transformer/layer_1/ff/layer_2/bias:0, shape = (768,), *INIT_FROM_CKPT*\n",
            "I0720 08:46:32.694460 139958602311552 model_utils.py:91]   name = model/transformer/layer_1/ff/LayerNorm/beta:0, shape = (768,), *INIT_FROM_CKPT*\n",
            "I0720 08:46:32.694574 139958602311552 model_utils.py:91]   name = model/transformer/layer_1/ff/LayerNorm/gamma:0, shape = (768,), *INIT_FROM_CKPT*\n",
            "I0720 08:46:32.694691 139958602311552 model_utils.py:91]   name = model/transformer/layer_2/rel_attn/q/kernel:0, shape = (768, 12, 64), *INIT_FROM_CKPT*\n",
            "I0720 08:46:32.694798 139958602311552 model_utils.py:91]   name = model/transformer/layer_2/rel_attn/k/kernel:0, shape = (768, 12, 64), *INIT_FROM_CKPT*\n",
            "I0720 08:46:32.694926 139958602311552 model_utils.py:91]   name = model/transformer/layer_2/rel_attn/v/kernel:0, shape = (768, 12, 64), *INIT_FROM_CKPT*\n",
            "I0720 08:46:32.695039 139958602311552 model_utils.py:91]   name = model/transformer/layer_2/rel_attn/r/kernel:0, shape = (768, 12, 64), *INIT_FROM_CKPT*\n",
            "I0720 08:46:32.695151 139958602311552 model_utils.py:91]   name = model/transformer/layer_2/rel_attn/o/kernel:0, shape = (768, 12, 64), *INIT_FROM_CKPT*\n",
            "I0720 08:46:32.695261 139958602311552 model_utils.py:91]   name = model/transformer/layer_2/rel_attn/LayerNorm/beta:0, shape = (768,), *INIT_FROM_CKPT*\n",
            "I0720 08:46:32.695367 139958602311552 model_utils.py:91]   name = model/transformer/layer_2/rel_attn/LayerNorm/gamma:0, shape = (768,), *INIT_FROM_CKPT*\n",
            "I0720 08:46:32.695500 139958602311552 model_utils.py:91]   name = model/transformer/layer_2/ff/layer_1/kernel:0, shape = (768, 3072), *INIT_FROM_CKPT*\n",
            "I0720 08:46:32.695609 139958602311552 model_utils.py:91]   name = model/transformer/layer_2/ff/layer_1/bias:0, shape = (3072,), *INIT_FROM_CKPT*\n",
            "I0720 08:46:32.695725 139958602311552 model_utils.py:91]   name = model/transformer/layer_2/ff/layer_2/kernel:0, shape = (3072, 768), *INIT_FROM_CKPT*\n",
            "I0720 08:46:32.695899 139958602311552 model_utils.py:91]   name = model/transformer/layer_2/ff/layer_2/bias:0, shape = (768,), *INIT_FROM_CKPT*\n",
            "I0720 08:46:32.696037 139958602311552 model_utils.py:91]   name = model/transformer/layer_2/ff/LayerNorm/beta:0, shape = (768,), *INIT_FROM_CKPT*\n",
            "I0720 08:46:32.696192 139958602311552 model_utils.py:91]   name = model/transformer/layer_2/ff/LayerNorm/gamma:0, shape = (768,), *INIT_FROM_CKPT*\n",
            "I0720 08:46:32.696311 139958602311552 model_utils.py:91]   name = model/transformer/layer_3/rel_attn/q/kernel:0, shape = (768, 12, 64), *INIT_FROM_CKPT*\n",
            "I0720 08:46:32.696421 139958602311552 model_utils.py:91]   name = model/transformer/layer_3/rel_attn/k/kernel:0, shape = (768, 12, 64), *INIT_FROM_CKPT*\n",
            "I0720 08:46:32.696540 139958602311552 model_utils.py:91]   name = model/transformer/layer_3/rel_attn/v/kernel:0, shape = (768, 12, 64), *INIT_FROM_CKPT*\n",
            "I0720 08:46:32.696660 139958602311552 model_utils.py:91]   name = model/transformer/layer_3/rel_attn/r/kernel:0, shape = (768, 12, 64), *INIT_FROM_CKPT*\n",
            "I0720 08:46:32.696800 139958602311552 model_utils.py:91]   name = model/transformer/layer_3/rel_attn/o/kernel:0, shape = (768, 12, 64), *INIT_FROM_CKPT*\n",
            "I0720 08:46:32.696952 139958602311552 model_utils.py:91]   name = model/transformer/layer_3/rel_attn/LayerNorm/beta:0, shape = (768,), *INIT_FROM_CKPT*\n",
            "I0720 08:46:32.697055 139958602311552 model_utils.py:91]   name = model/transformer/layer_3/rel_attn/LayerNorm/gamma:0, shape = (768,), *INIT_FROM_CKPT*\n",
            "I0720 08:46:32.697160 139958602311552 model_utils.py:91]   name = model/transformer/layer_3/ff/layer_1/kernel:0, shape = (768, 3072), *INIT_FROM_CKPT*\n",
            "I0720 08:46:32.697269 139958602311552 model_utils.py:91]   name = model/transformer/layer_3/ff/layer_1/bias:0, shape = (3072,), *INIT_FROM_CKPT*\n",
            "I0720 08:46:32.697390 139958602311552 model_utils.py:91]   name = model/transformer/layer_3/ff/layer_2/kernel:0, shape = (3072, 768), *INIT_FROM_CKPT*\n",
            "I0720 08:46:32.697508 139958602311552 model_utils.py:91]   name = model/transformer/layer_3/ff/layer_2/bias:0, shape = (768,), *INIT_FROM_CKPT*\n",
            "I0720 08:46:32.697618 139958602311552 model_utils.py:91]   name = model/transformer/layer_3/ff/LayerNorm/beta:0, shape = (768,), *INIT_FROM_CKPT*\n",
            "I0720 08:46:32.697726 139958602311552 model_utils.py:91]   name = model/transformer/layer_3/ff/LayerNorm/gamma:0, shape = (768,), *INIT_FROM_CKPT*\n",
            "I0720 08:46:32.697833 139958602311552 model_utils.py:91]   name = model/transformer/layer_4/rel_attn/q/kernel:0, shape = (768, 12, 64), *INIT_FROM_CKPT*\n",
            "I0720 08:46:32.697973 139958602311552 model_utils.py:91]   name = model/transformer/layer_4/rel_attn/k/kernel:0, shape = (768, 12, 64), *INIT_FROM_CKPT*\n",
            "I0720 08:46:32.698086 139958602311552 model_utils.py:91]   name = model/transformer/layer_4/rel_attn/v/kernel:0, shape = (768, 12, 64), *INIT_FROM_CKPT*\n",
            "I0720 08:46:32.698194 139958602311552 model_utils.py:91]   name = model/transformer/layer_4/rel_attn/r/kernel:0, shape = (768, 12, 64), *INIT_FROM_CKPT*\n",
            "I0720 08:46:32.698326 139958602311552 model_utils.py:91]   name = model/transformer/layer_4/rel_attn/o/kernel:0, shape = (768, 12, 64), *INIT_FROM_CKPT*\n",
            "I0720 08:46:32.698429 139958602311552 model_utils.py:91]   name = model/transformer/layer_4/rel_attn/LayerNorm/beta:0, shape = (768,), *INIT_FROM_CKPT*\n",
            "I0720 08:46:32.698538 139958602311552 model_utils.py:91]   name = model/transformer/layer_4/rel_attn/LayerNorm/gamma:0, shape = (768,), *INIT_FROM_CKPT*\n",
            "I0720 08:46:32.698640 139958602311552 model_utils.py:91]   name = model/transformer/layer_4/ff/layer_1/kernel:0, shape = (768, 3072), *INIT_FROM_CKPT*\n",
            "I0720 08:46:32.698745 139958602311552 model_utils.py:91]   name = model/transformer/layer_4/ff/layer_1/bias:0, shape = (3072,), *INIT_FROM_CKPT*\n",
            "I0720 08:46:32.698875 139958602311552 model_utils.py:91]   name = model/transformer/layer_4/ff/layer_2/kernel:0, shape = (3072, 768), *INIT_FROM_CKPT*\n",
            "I0720 08:46:32.699019 139958602311552 model_utils.py:91]   name = model/transformer/layer_4/ff/layer_2/bias:0, shape = (768,), *INIT_FROM_CKPT*\n",
            "I0720 08:46:32.699146 139958602311552 model_utils.py:91]   name = model/transformer/layer_4/ff/LayerNorm/beta:0, shape = (768,), *INIT_FROM_CKPT*\n",
            "I0720 08:46:32.699251 139958602311552 model_utils.py:91]   name = model/transformer/layer_4/ff/LayerNorm/gamma:0, shape = (768,), *INIT_FROM_CKPT*\n",
            "I0720 08:46:32.699356 139958602311552 model_utils.py:91]   name = model/transformer/layer_5/rel_attn/q/kernel:0, shape = (768, 12, 64), *INIT_FROM_CKPT*\n",
            "I0720 08:46:32.699478 139958602311552 model_utils.py:91]   name = model/transformer/layer_5/rel_attn/k/kernel:0, shape = (768, 12, 64), *INIT_FROM_CKPT*\n",
            "I0720 08:46:32.699602 139958602311552 model_utils.py:91]   name = model/transformer/layer_5/rel_attn/v/kernel:0, shape = (768, 12, 64), *INIT_FROM_CKPT*\n",
            "I0720 08:46:32.699716 139958602311552 model_utils.py:91]   name = model/transformer/layer_5/rel_attn/r/kernel:0, shape = (768, 12, 64), *INIT_FROM_CKPT*\n",
            "I0720 08:46:32.699827 139958602311552 model_utils.py:91]   name = model/transformer/layer_5/rel_attn/o/kernel:0, shape = (768, 12, 64), *INIT_FROM_CKPT*\n",
            "I0720 08:46:32.699954 139958602311552 model_utils.py:91]   name = model/transformer/layer_5/rel_attn/LayerNorm/beta:0, shape = (768,), *INIT_FROM_CKPT*\n",
            "I0720 08:46:32.700063 139958602311552 model_utils.py:91]   name = model/transformer/layer_5/rel_attn/LayerNorm/gamma:0, shape = (768,), *INIT_FROM_CKPT*\n",
            "I0720 08:46:32.700170 139958602311552 model_utils.py:91]   name = model/transformer/layer_5/ff/layer_1/kernel:0, shape = (768, 3072), *INIT_FROM_CKPT*\n",
            "I0720 08:46:32.700279 139958602311552 model_utils.py:91]   name = model/transformer/layer_5/ff/layer_1/bias:0, shape = (3072,), *INIT_FROM_CKPT*\n",
            "I0720 08:46:32.700406 139958602311552 model_utils.py:91]   name = model/transformer/layer_5/ff/layer_2/kernel:0, shape = (3072, 768), *INIT_FROM_CKPT*\n",
            "I0720 08:46:32.700521 139958602311552 model_utils.py:91]   name = model/transformer/layer_5/ff/layer_2/bias:0, shape = (768,), *INIT_FROM_CKPT*\n",
            "I0720 08:46:32.700624 139958602311552 model_utils.py:91]   name = model/transformer/layer_5/ff/LayerNorm/beta:0, shape = (768,), *INIT_FROM_CKPT*\n",
            "I0720 08:46:32.700729 139958602311552 model_utils.py:91]   name = model/transformer/layer_5/ff/LayerNorm/gamma:0, shape = (768,), *INIT_FROM_CKPT*\n",
            "I0720 08:46:32.700834 139958602311552 model_utils.py:91]   name = model/transformer/layer_6/rel_attn/q/kernel:0, shape = (768, 12, 64), *INIT_FROM_CKPT*\n",
            "I0720 08:46:32.700977 139958602311552 model_utils.py:91]   name = model/transformer/layer_6/rel_attn/k/kernel:0, shape = (768, 12, 64), *INIT_FROM_CKPT*\n",
            "I0720 08:46:32.701084 139958602311552 model_utils.py:91]   name = model/transformer/layer_6/rel_attn/v/kernel:0, shape = (768, 12, 64), *INIT_FROM_CKPT*\n",
            "I0720 08:46:32.701225 139958602311552 model_utils.py:91]   name = model/transformer/layer_6/rel_attn/r/kernel:0, shape = (768, 12, 64), *INIT_FROM_CKPT*\n",
            "I0720 08:46:32.701338 139958602311552 model_utils.py:91]   name = model/transformer/layer_6/rel_attn/o/kernel:0, shape = (768, 12, 64), *INIT_FROM_CKPT*\n",
            "I0720 08:46:32.701450 139958602311552 model_utils.py:91]   name = model/transformer/layer_6/rel_attn/LayerNorm/beta:0, shape = (768,), *INIT_FROM_CKPT*\n",
            "I0720 08:46:32.701575 139958602311552 model_utils.py:91]   name = model/transformer/layer_6/rel_attn/LayerNorm/gamma:0, shape = (768,), *INIT_FROM_CKPT*\n",
            "I0720 08:46:32.701693 139958602311552 model_utils.py:91]   name = model/transformer/layer_6/ff/layer_1/kernel:0, shape = (768, 3072), *INIT_FROM_CKPT*\n",
            "I0720 08:46:32.701803 139958602311552 model_utils.py:91]   name = model/transformer/layer_6/ff/layer_1/bias:0, shape = (3072,), *INIT_FROM_CKPT*\n",
            "I0720 08:46:32.701971 139958602311552 model_utils.py:91]   name = model/transformer/layer_6/ff/layer_2/kernel:0, shape = (3072, 768), *INIT_FROM_CKPT*\n",
            "I0720 08:46:32.702085 139958602311552 model_utils.py:91]   name = model/transformer/layer_6/ff/layer_2/bias:0, shape = (768,), *INIT_FROM_CKPT*\n",
            "I0720 08:46:32.702193 139958602311552 model_utils.py:91]   name = model/transformer/layer_6/ff/LayerNorm/beta:0, shape = (768,), *INIT_FROM_CKPT*\n",
            "I0720 08:46:32.702301 139958602311552 model_utils.py:91]   name = model/transformer/layer_6/ff/LayerNorm/gamma:0, shape = (768,), *INIT_FROM_CKPT*\n",
            "I0720 08:46:32.702417 139958602311552 model_utils.py:91]   name = model/transformer/layer_7/rel_attn/q/kernel:0, shape = (768, 12, 64), *INIT_FROM_CKPT*\n",
            "I0720 08:46:32.702578 139958602311552 model_utils.py:91]   name = model/transformer/layer_7/rel_attn/k/kernel:0, shape = (768, 12, 64), *INIT_FROM_CKPT*\n",
            "I0720 08:46:32.702693 139958602311552 model_utils.py:91]   name = model/transformer/layer_7/rel_attn/v/kernel:0, shape = (768, 12, 64), *INIT_FROM_CKPT*\n",
            "I0720 08:46:32.702806 139958602311552 model_utils.py:91]   name = model/transformer/layer_7/rel_attn/r/kernel:0, shape = (768, 12, 64), *INIT_FROM_CKPT*\n",
            "I0720 08:46:32.702931 139958602311552 model_utils.py:91]   name = model/transformer/layer_7/rel_attn/o/kernel:0, shape = (768, 12, 64), *INIT_FROM_CKPT*\n",
            "I0720 08:46:32.703044 139958602311552 model_utils.py:91]   name = model/transformer/layer_7/rel_attn/LayerNorm/beta:0, shape = (768,), *INIT_FROM_CKPT*\n",
            "I0720 08:46:32.703150 139958602311552 model_utils.py:91]   name = model/transformer/layer_7/rel_attn/LayerNorm/gamma:0, shape = (768,), *INIT_FROM_CKPT*\n",
            "I0720 08:46:32.703266 139958602311552 model_utils.py:91]   name = model/transformer/layer_7/ff/layer_1/kernel:0, shape = (768, 3072), *INIT_FROM_CKPT*\n",
            "I0720 08:46:32.703376 139958602311552 model_utils.py:91]   name = model/transformer/layer_7/ff/layer_1/bias:0, shape = (3072,), *INIT_FROM_CKPT*\n",
            "I0720 08:46:32.703488 139958602311552 model_utils.py:91]   name = model/transformer/layer_7/ff/layer_2/kernel:0, shape = (3072, 768), *INIT_FROM_CKPT*\n",
            "I0720 08:46:32.703604 139958602311552 model_utils.py:91]   name = model/transformer/layer_7/ff/layer_2/bias:0, shape = (768,), *INIT_FROM_CKPT*\n",
            "I0720 08:46:32.703711 139958602311552 model_utils.py:91]   name = model/transformer/layer_7/ff/LayerNorm/beta:0, shape = (768,), *INIT_FROM_CKPT*\n",
            "I0720 08:46:32.703818 139958602311552 model_utils.py:91]   name = model/transformer/layer_7/ff/LayerNorm/gamma:0, shape = (768,), *INIT_FROM_CKPT*\n",
            "I0720 08:46:32.703938 139958602311552 model_utils.py:91]   name = model/transformer/layer_8/rel_attn/q/kernel:0, shape = (768, 12, 64), *INIT_FROM_CKPT*\n",
            "I0720 08:46:32.704061 139958602311552 model_utils.py:91]   name = model/transformer/layer_8/rel_attn/k/kernel:0, shape = (768, 12, 64), *INIT_FROM_CKPT*\n",
            "I0720 08:46:32.704171 139958602311552 model_utils.py:91]   name = model/transformer/layer_8/rel_attn/v/kernel:0, shape = (768, 12, 64), *INIT_FROM_CKPT*\n",
            "I0720 08:46:32.704292 139958602311552 model_utils.py:91]   name = model/transformer/layer_8/rel_attn/r/kernel:0, shape = (768, 12, 64), *INIT_FROM_CKPT*\n",
            "I0720 08:46:32.704401 139958602311552 model_utils.py:91]   name = model/transformer/layer_8/rel_attn/o/kernel:0, shape = (768, 12, 64), *INIT_FROM_CKPT*\n",
            "I0720 08:46:32.704517 139958602311552 model_utils.py:91]   name = model/transformer/layer_8/rel_attn/LayerNorm/beta:0, shape = (768,), *INIT_FROM_CKPT*\n",
            "I0720 08:46:32.704620 139958602311552 model_utils.py:91]   name = model/transformer/layer_8/rel_attn/LayerNorm/gamma:0, shape = (768,), *INIT_FROM_CKPT*\n",
            "I0720 08:46:32.704754 139958602311552 model_utils.py:91]   name = model/transformer/layer_8/ff/layer_1/kernel:0, shape = (768, 3072), *INIT_FROM_CKPT*\n",
            "I0720 08:46:32.704936 139958602311552 model_utils.py:91]   name = model/transformer/layer_8/ff/layer_1/bias:0, shape = (3072,), *INIT_FROM_CKPT*\n",
            "I0720 08:46:32.705071 139958602311552 model_utils.py:91]   name = model/transformer/layer_8/ff/layer_2/kernel:0, shape = (3072, 768), *INIT_FROM_CKPT*\n",
            "I0720 08:46:32.705178 139958602311552 model_utils.py:91]   name = model/transformer/layer_8/ff/layer_2/bias:0, shape = (768,), *INIT_FROM_CKPT*\n",
            "I0720 08:46:32.740041 139958602311552 model_utils.py:91]   name = model/transformer/layer_8/ff/LayerNorm/beta:0, shape = (768,), *INIT_FROM_CKPT*\n",
            "I0720 08:46:32.740211 139958602311552 model_utils.py:91]   name = model/transformer/layer_8/ff/LayerNorm/gamma:0, shape = (768,), *INIT_FROM_CKPT*\n",
            "I0720 08:46:32.740373 139958602311552 model_utils.py:91]   name = model/transformer/layer_9/rel_attn/q/kernel:0, shape = (768, 12, 64), *INIT_FROM_CKPT*\n",
            "I0720 08:46:32.740543 139958602311552 model_utils.py:91]   name = model/transformer/layer_9/rel_attn/k/kernel:0, shape = (768, 12, 64), *INIT_FROM_CKPT*\n",
            "I0720 08:46:32.740693 139958602311552 model_utils.py:91]   name = model/transformer/layer_9/rel_attn/v/kernel:0, shape = (768, 12, 64), *INIT_FROM_CKPT*\n",
            "I0720 08:46:32.740847 139958602311552 model_utils.py:91]   name = model/transformer/layer_9/rel_attn/r/kernel:0, shape = (768, 12, 64), *INIT_FROM_CKPT*\n",
            "I0720 08:46:32.741038 139958602311552 model_utils.py:91]   name = model/transformer/layer_9/rel_attn/o/kernel:0, shape = (768, 12, 64), *INIT_FROM_CKPT*\n",
            "I0720 08:46:32.741227 139958602311552 model_utils.py:91]   name = model/transformer/layer_9/rel_attn/LayerNorm/beta:0, shape = (768,), *INIT_FROM_CKPT*\n",
            "I0720 08:46:32.741380 139958602311552 model_utils.py:91]   name = model/transformer/layer_9/rel_attn/LayerNorm/gamma:0, shape = (768,), *INIT_FROM_CKPT*\n",
            "I0720 08:46:32.741561 139958602311552 model_utils.py:91]   name = model/transformer/layer_9/ff/layer_1/kernel:0, shape = (768, 3072), *INIT_FROM_CKPT*\n",
            "I0720 08:46:32.741719 139958602311552 model_utils.py:91]   name = model/transformer/layer_9/ff/layer_1/bias:0, shape = (3072,), *INIT_FROM_CKPT*\n",
            "I0720 08:46:32.741887 139958602311552 model_utils.py:91]   name = model/transformer/layer_9/ff/layer_2/kernel:0, shape = (3072, 768), *INIT_FROM_CKPT*\n",
            "I0720 08:46:32.742043 139958602311552 model_utils.py:91]   name = model/transformer/layer_9/ff/layer_2/bias:0, shape = (768,), *INIT_FROM_CKPT*\n",
            "I0720 08:46:32.742191 139958602311552 model_utils.py:91]   name = model/transformer/layer_9/ff/LayerNorm/beta:0, shape = (768,), *INIT_FROM_CKPT*\n",
            "I0720 08:46:32.742336 139958602311552 model_utils.py:91]   name = model/transformer/layer_9/ff/LayerNorm/gamma:0, shape = (768,), *INIT_FROM_CKPT*\n",
            "I0720 08:46:32.742507 139958602311552 model_utils.py:91]   name = model/transformer/layer_10/rel_attn/q/kernel:0, shape = (768, 12, 64), *INIT_FROM_CKPT*\n",
            "I0720 08:46:32.742667 139958602311552 model_utils.py:91]   name = model/transformer/layer_10/rel_attn/k/kernel:0, shape = (768, 12, 64), *INIT_FROM_CKPT*\n",
            "I0720 08:46:32.742852 139958602311552 model_utils.py:91]   name = model/transformer/layer_10/rel_attn/v/kernel:0, shape = (768, 12, 64), *INIT_FROM_CKPT*\n",
            "I0720 08:46:32.743033 139958602311552 model_utils.py:91]   name = model/transformer/layer_10/rel_attn/r/kernel:0, shape = (768, 12, 64), *INIT_FROM_CKPT*\n",
            "I0720 08:46:32.743187 139958602311552 model_utils.py:91]   name = model/transformer/layer_10/rel_attn/o/kernel:0, shape = (768, 12, 64), *INIT_FROM_CKPT*\n",
            "I0720 08:46:32.743343 139958602311552 model_utils.py:91]   name = model/transformer/layer_10/rel_attn/LayerNorm/beta:0, shape = (768,), *INIT_FROM_CKPT*\n",
            "I0720 08:46:32.743502 139958602311552 model_utils.py:91]   name = model/transformer/layer_10/rel_attn/LayerNorm/gamma:0, shape = (768,), *INIT_FROM_CKPT*\n",
            "I0720 08:46:32.743648 139958602311552 model_utils.py:91]   name = model/transformer/layer_10/ff/layer_1/kernel:0, shape = (768, 3072), *INIT_FROM_CKPT*\n",
            "I0720 08:46:32.743800 139958602311552 model_utils.py:91]   name = model/transformer/layer_10/ff/layer_1/bias:0, shape = (3072,), *INIT_FROM_CKPT*\n",
            "I0720 08:46:32.743970 139958602311552 model_utils.py:91]   name = model/transformer/layer_10/ff/layer_2/kernel:0, shape = (3072, 768), *INIT_FROM_CKPT*\n",
            "I0720 08:46:32.744121 139958602311552 model_utils.py:91]   name = model/transformer/layer_10/ff/layer_2/bias:0, shape = (768,), *INIT_FROM_CKPT*\n",
            "I0720 08:46:32.744284 139958602311552 model_utils.py:91]   name = model/transformer/layer_10/ff/LayerNorm/beta:0, shape = (768,), *INIT_FROM_CKPT*\n",
            "I0720 08:46:32.744509 139958602311552 model_utils.py:91]   name = model/transformer/layer_10/ff/LayerNorm/gamma:0, shape = (768,), *INIT_FROM_CKPT*\n",
            "I0720 08:46:32.744661 139958602311552 model_utils.py:91]   name = model/transformer/layer_11/rel_attn/q/kernel:0, shape = (768, 12, 64), *INIT_FROM_CKPT*\n",
            "I0720 08:46:32.744847 139958602311552 model_utils.py:91]   name = model/transformer/layer_11/rel_attn/k/kernel:0, shape = (768, 12, 64), *INIT_FROM_CKPT*\n",
            "I0720 08:46:32.745021 139958602311552 model_utils.py:91]   name = model/transformer/layer_11/rel_attn/v/kernel:0, shape = (768, 12, 64), *INIT_FROM_CKPT*\n",
            "I0720 08:46:32.745172 139958602311552 model_utils.py:91]   name = model/transformer/layer_11/rel_attn/r/kernel:0, shape = (768, 12, 64), *INIT_FROM_CKPT*\n",
            "I0720 08:46:32.745325 139958602311552 model_utils.py:91]   name = model/transformer/layer_11/rel_attn/o/kernel:0, shape = (768, 12, 64), *INIT_FROM_CKPT*\n",
            "I0720 08:46:32.745499 139958602311552 model_utils.py:91]   name = model/transformer/layer_11/rel_attn/LayerNorm/beta:0, shape = (768,), *INIT_FROM_CKPT*\n",
            "I0720 08:46:32.745646 139958602311552 model_utils.py:91]   name = model/transformer/layer_11/rel_attn/LayerNorm/gamma:0, shape = (768,), *INIT_FROM_CKPT*\n",
            "I0720 08:46:32.745791 139958602311552 model_utils.py:91]   name = model/transformer/layer_11/ff/layer_1/kernel:0, shape = (768, 3072), *INIT_FROM_CKPT*\n",
            "I0720 08:46:32.745966 139958602311552 model_utils.py:91]   name = model/transformer/layer_11/ff/layer_1/bias:0, shape = (3072,), *INIT_FROM_CKPT*\n",
            "I0720 08:46:32.746110 139958602311552 model_utils.py:91]   name = model/transformer/layer_11/ff/layer_2/kernel:0, shape = (3072, 768), *INIT_FROM_CKPT*\n",
            "I0720 08:46:32.746258 139958602311552 model_utils.py:91]   name = model/transformer/layer_11/ff/layer_2/bias:0, shape = (768,), *INIT_FROM_CKPT*\n",
            "I0720 08:46:32.746416 139958602311552 model_utils.py:91]   name = model/transformer/layer_11/ff/LayerNorm/beta:0, shape = (768,), *INIT_FROM_CKPT*\n",
            "I0720 08:46:32.746565 139958602311552 model_utils.py:91]   name = model/transformer/layer_11/ff/LayerNorm/gamma:0, shape = (768,), *INIT_FROM_CKPT*\n",
            "I0720 08:46:32.746705 139958602311552 model_utils.py:91]   name = model/sequnece_summary/summary/kernel:0, shape = (768, 768), *INIT_FROM_CKPT*\n",
            "I0720 08:46:32.746852 139958602311552 model_utils.py:91]   name = model/sequnece_summary/summary/bias:0, shape = (768,), *INIT_FROM_CKPT*\n",
            "I0720 08:46:32.747017 139958602311552 model_utils.py:91]   name = model/regression_sst5/logit/kernel:0, shape = (768, 1), *INIT_FROM_CKPT*\n",
            "I0720 08:46:32.747163 139958602311552 model_utils.py:91]   name = model/regression_sst5/logit/bias:0, shape = (1,), *INIT_FROM_CKPT*\n",
            "I0720 08:46:32.749125 139958602311552 estimator.py:1150] Done calling model_fn.\n",
            "W0720 08:46:32.907674 139958602311552 deprecation.py:323] From /usr/local/lib/python3.6/dist-packages/tensorflow_core/python/ops/array_ops.py:1475: where (from tensorflow.python.ops.array_ops) is deprecated and will be removed in a future version.\n",
            "Instructions for updating:\n",
            "Use tf.where in 2.0, which has the same broadcast rule as np.where\n",
            "I0720 08:46:33.248085 139958602311552 monitored_session.py:240] Graph was finalized.\n",
            "2020-07-20 08:46:33.248590: I tensorflow/core/platform/cpu_feature_guard.cc:142] Your CPU supports instructions that this TensorFlow binary was not compiled to use: AVX2 FMA\n",
            "2020-07-20 08:46:33.254073: I tensorflow/core/platform/profile_utils/cpu_utils.cc:94] CPU Frequency: 2300000000 Hz\n",
            "2020-07-20 08:46:33.254442: I tensorflow/compiler/xla/service/service.cc:168] XLA service 0x2861640 initialized for platform Host (this does not guarantee that XLA will be used). Devices:\n",
            "2020-07-20 08:46:33.254479: I tensorflow/compiler/xla/service/service.cc:176]   StreamExecutor device (0): Host, Default Version\n",
            "2020-07-20 08:46:33.256644: I tensorflow/stream_executor/platform/default/dso_loader.cc:44] Successfully opened dynamic library libcuda.so.1\n",
            "2020-07-20 08:46:33.340483: I tensorflow/stream_executor/cuda/cuda_gpu_executor.cc:983] successful NUMA node read from SysFS had negative value (-1), but there must be at least one NUMA node, so returning NUMA node zero\n",
            "2020-07-20 08:46:33.341557: I tensorflow/compiler/xla/service/service.cc:168] XLA service 0x2861800 initialized for platform CUDA (this does not guarantee that XLA will be used). Devices:\n",
            "2020-07-20 08:46:33.341595: I tensorflow/compiler/xla/service/service.cc:176]   StreamExecutor device (0): Tesla K80, Compute Capability 3.7\n",
            "2020-07-20 08:46:33.341897: I tensorflow/stream_executor/cuda/cuda_gpu_executor.cc:983] successful NUMA node read from SysFS had negative value (-1), but there must be at least one NUMA node, so returning NUMA node zero\n",
            "2020-07-20 08:46:33.342756: I tensorflow/core/common_runtime/gpu/gpu_device.cc:1618] Found device 0 with properties: \n",
            "name: Tesla K80 major: 3 minor: 7 memoryClockRate(GHz): 0.8235\n",
            "pciBusID: 0000:00:04.0\n",
            "2020-07-20 08:46:33.343270: I tensorflow/stream_executor/platform/default/dso_loader.cc:44] Successfully opened dynamic library libcudart.so.10.0\n",
            "2020-07-20 08:46:33.344842: I tensorflow/stream_executor/platform/default/dso_loader.cc:44] Successfully opened dynamic library libcublas.so.10.0\n",
            "2020-07-20 08:46:33.346381: I tensorflow/stream_executor/platform/default/dso_loader.cc:44] Successfully opened dynamic library libcufft.so.10.0\n",
            "2020-07-20 08:46:33.346737: I tensorflow/stream_executor/platform/default/dso_loader.cc:44] Successfully opened dynamic library libcurand.so.10.0\n",
            "2020-07-20 08:46:33.348783: I tensorflow/stream_executor/platform/default/dso_loader.cc:44] Successfully opened dynamic library libcusolver.so.10.0\n",
            "2020-07-20 08:46:33.350290: I tensorflow/stream_executor/platform/default/dso_loader.cc:44] Successfully opened dynamic library libcusparse.so.10.0\n",
            "2020-07-20 08:46:33.354661: I tensorflow/stream_executor/platform/default/dso_loader.cc:44] Successfully opened dynamic library libcudnn.so.7\n",
            "2020-07-20 08:46:33.354813: I tensorflow/stream_executor/cuda/cuda_gpu_executor.cc:983] successful NUMA node read from SysFS had negative value (-1), but there must be at least one NUMA node, so returning NUMA node zero\n",
            "2020-07-20 08:46:33.355726: I tensorflow/stream_executor/cuda/cuda_gpu_executor.cc:983] successful NUMA node read from SysFS had negative value (-1), but there must be at least one NUMA node, so returning NUMA node zero\n",
            "2020-07-20 08:46:33.356503: I tensorflow/core/common_runtime/gpu/gpu_device.cc:1746] Adding visible gpu devices: 0\n",
            "2020-07-20 08:46:33.356582: I tensorflow/stream_executor/platform/default/dso_loader.cc:44] Successfully opened dynamic library libcudart.so.10.0\n",
            "2020-07-20 08:46:33.358276: I tensorflow/core/common_runtime/gpu/gpu_device.cc:1159] Device interconnect StreamExecutor with strength 1 edge matrix:\n",
            "2020-07-20 08:46:33.358317: I tensorflow/core/common_runtime/gpu/gpu_device.cc:1165]      0 \n",
            "2020-07-20 08:46:33.358355: I tensorflow/core/common_runtime/gpu/gpu_device.cc:1178] 0:   N \n",
            "2020-07-20 08:46:33.358532: I tensorflow/stream_executor/cuda/cuda_gpu_executor.cc:983] successful NUMA node read from SysFS had negative value (-1), but there must be at least one NUMA node, so returning NUMA node zero\n",
            "2020-07-20 08:46:33.359423: I tensorflow/stream_executor/cuda/cuda_gpu_executor.cc:983] successful NUMA node read from SysFS had negative value (-1), but there must be at least one NUMA node, so returning NUMA node zero\n",
            "2020-07-20 08:46:33.360238: W tensorflow/core/common_runtime/gpu/gpu_bfc_allocator.cc:39] Overriding allow_growth setting because the TF_FORCE_GPU_ALLOW_GROWTH environment variable is set. Original config value was 0.\n",
            "2020-07-20 08:46:33.360310: I tensorflow/core/common_runtime/gpu/gpu_device.cc:1304] Created TensorFlow device (/job:localhost/replica:0/task:0/device:GPU:0 with 10805 MB memory) -> physical GPU (device: 0, name: Tesla K80, pci bus id: 0000:00:04.0, compute capability: 3.7)\n",
            "I0720 08:46:33.363019 139958602311552 saver.py:1284] Restoring parameters from model_dir_sst5/model.ckpt-6000\n",
            "I0720 08:46:35.043171 139958602311552 session_manager.py:500] Running local_init_op.\n",
            "I0720 08:46:35.148039 139958602311552 session_manager.py:502] Done running local_init_op.\n",
            "2020-07-20 08:46:36.663672: I tensorflow/stream_executor/platform/default/dso_loader.cc:44] Successfully opened dynamic library libcublas.so.10.0\n",
            "I0720 08:46:39.990383 139958602311552 run_classifier.py:911] Predicting submission for example: 0\n",
            "I0720 08:47:01.604233 139958602311552 run_classifier.py:911] Predicting submission for example: 1000\n",
            "I0720 08:47:26.269535 139958602311552 run_classifier.py:911] Predicting submission for example: 2000\n"
          ],
          "name": "stdout"
        }
      ]
    },
    {
      "cell_type": "code",
      "metadata": {
        "id": "sb74NBVs_3SY",
        "colab_type": "code",
        "colab": {}
      },
      "source": [
        "! curl https://bashupload.com/model-ckpt-6000 --data-binary @model_dir_sst5/model.ckpt-0.data-00000-of-00001"
      ],
      "execution_count": null,
      "outputs": []
    },
    {
      "cell_type": "code",
      "metadata": {
        "id": "R-memjkFAnd7",
        "colab_type": "code",
        "colab": {}
      },
      "source": [
        "! wget https://www.dropbox.com/s/mbywr7lc11785w4/bert_repo.zip"
      ],
      "execution_count": null,
      "outputs": []
    },
    {
      "cell_type": "code",
      "metadata": {
        "id": "QBVpK-_9Cye5",
        "colab_type": "code",
        "colab": {
          "base_uri": "https://localhost:8080/",
          "height": 156
        },
        "outputId": "eb43012c-be2d-4f63-8362-a0d37d50678d"
      },
      "source": [
        "! ls"
      ],
      "execution_count": 39,
      "outputs": [
        {
          "output_type": "stream",
          "text": [
            "bert\t\t\t   sample_data\n",
            "bert_repo\t\t   spiece.model.len-128.test.predict.tf_record\n",
            "cased_L-12_H-768_A-12.zip  xlnet_cased_L-12_H-768_A-12\n",
            "glue_data\t\t   xlnet_output\n",
            "glue_data.tar.xz\t   xlnet_output_sst5\n",
            "model_dir\t\t   xlnet_repo\n",
            "model_dir_sst5\t\t   xlnet_repo.zip\n",
            "requirements.txt\n"
          ],
          "name": "stdout"
        }
      ]
    },
    {
      "cell_type": "code",
      "metadata": {
        "id": "o4dDOIBCDCyw",
        "colab_type": "code",
        "colab": {}
      },
      "source": [
        "BERT_BASE_DIR='bert_repo/uncased_L-4_H-512_A-8'\n",
        "DATA_DIR='glue_data/SST-5'\n",
        "TASK_NAME='sst5'\n"
      ],
      "execution_count": 55,
      "outputs": []
    },
    {
      "cell_type": "code",
      "metadata": {
        "id": "JnbJz2rEDDiI",
        "colab_type": "code",
        "colab": {}
      },
      "source": [
        "! mkdir bert_output"
      ],
      "execution_count": 41,
      "outputs": []
    },
    {
      "cell_type": "code",
      "metadata": {
        "id": "eNbf4n02DD2Z",
        "colab_type": "code",
        "colab": {}
      },
      "source": [
        "train_command_sst5=\"CUDA_VISIBLE_DEVICES=0 python bert_repo/run_classifier.py \\\n",
        "  --task_name=\"+TASK_NAME+\" \\\n",
        "  --do_train=true \\\n",
        "  --do_eval=true \\\n",
        "  --data_dir=\"+DATA_DIR+\" \\\n",
        "  --vocab_file=\"+BERT_BASE_DIR+\"/vocab.txt \\\n",
        "  --bert_config_file=\"+BERT_BASE_DIR+\"/bert_config.json \\\n",
        "  --init_checkpoint=\"+BERT_BASE_DIR+\"/bert_model.ckpt \\\n",
        "  --max_seq_length=128 \\\n",
        "  --train_batch_size=32 \\\n",
        "  --learning_rate=2e-5 \\\n",
        "  --num_train_epochs=30.0 \\\n",
        "  --save_checkpoints_steps 100000 \\\n",
        "  --output_dir=bert_output/\"\n",
        "\n",
        "! {train_command_sst5}"
      ],
      "execution_count": null,
      "outputs": []
    },
    {
      "cell_type": "code",
      "metadata": {
        "id": "-ogYaJqhE78K",
        "colab_type": "code",
        "colab": {}
      },
      "source": [
        "! mkdir bert_output"
      ],
      "execution_count": 50,
      "outputs": []
    },
    {
      "cell_type": "code",
      "metadata": {
        "id": "E5olhoIXRSSA",
        "colab_type": "code",
        "colab": {
          "base_uri": "https://localhost:8080/",
          "height": 1000
        },
        "outputId": "537d607f-e0d1-4744-8aea-5982986ea1a7"
      },
      "source": [
        "TRAINED_CLASSIFIER=\"bert_output/model.ckpt-9042\"\n",
        "\n",
        "test_command_sst5=\"CUDA_VISIBLE_DEVICES=0 python bert_repo/run_classifier.py \\\n",
        "  --task_name=\"+TASK_NAME+\" \\\n",
        "  --do_predict=true \\\n",
        "  --data_dir=\"+DATA_DIR+\" \\\n",
        "  --vocab_file=\"+BERT_BASE_DIR+\"/vocab.txt \\\n",
        "  --bert_config_file=\"+BERT_BASE_DIR+\"/bert_config.json \\\n",
        "  --init_checkpoint=\"+TRAINED_CLASSIFIER+\" \\\n",
        "  --max_seq_length=128 \\\n",
        "  --output_dir=bert_output/\"\n",
        "\n",
        "! {test_command_sst5}"
      ],
      "execution_count": 56,
      "outputs": [
        {
          "output_type": "stream",
          "text": [
            "WARNING: Logging before flag parsing goes to stderr.\n",
            "W0720 08:45:53.426955 140344859711360 module_wrapper.py:139] From /content/bert_repo/optimization.py:87: The name tf.train.Optimizer is deprecated. Please use tf.compat.v1.train.Optimizer instead.\n",
            "\n",
            "W0720 08:45:53.428793 140344859711360 module_wrapper.py:139] From bert_repo/run_classifier.py:1062: The name tf.app.run is deprecated. Please use tf.compat.v1.app.run instead.\n",
            "\n",
            "W0720 08:45:53.429352 140344859711360 module_wrapper.py:139] From bert_repo/run_classifier.py:863: The name tf.logging.set_verbosity is deprecated. Please use tf.compat.v1.logging.set_verbosity instead.\n",
            "\n",
            "W0720 08:45:53.429509 140344859711360 module_wrapper.py:139] From bert_repo/run_classifier.py:863: The name tf.logging.INFO is deprecated. Please use tf.compat.v1.logging.INFO instead.\n",
            "\n",
            "W0720 08:45:53.429940 140344859711360 module_wrapper.py:139] From /content/bert_repo/modeling.py:93: The name tf.gfile.GFile is deprecated. Please use tf.io.gfile.GFile instead.\n",
            "\n",
            "W0720 08:45:53.430759 140344859711360 module_wrapper.py:139] From bert_repo/run_classifier.py:889: The name tf.gfile.MakeDirs is deprecated. Please use tf.io.gfile.makedirs instead.\n",
            "\n",
            "W0720 08:45:53.524883 140344859711360 lazy_loader.py:50] \n",
            "The TensorFlow contrib module will not be included in TensorFlow 2.0.\n",
            "For more information, please see:\n",
            "  * https://github.com/tensorflow/community/blob/master/rfcs/20180907-contrib-sunset.md\n",
            "  * https://github.com/tensorflow/addons\n",
            "  * https://github.com/tensorflow/io (for I/O related ops)\n",
            "If you depend on functionality not listed there, please file an issue.\n",
            "\n",
            "I0720 08:45:54.184778 140344859711360 utils.py:141] NumExpr defaulting to 2 threads.\n",
            "W0720 08:45:54.593966 140344859711360 estimator.py:1994] Estimator's model_fn (<function model_fn_builder.<locals>.model_fn at 0x7fa432e8e6a8>) includes params argument, but params are not passed to Estimator.\n",
            "I0720 08:45:54.595441 140344859711360 estimator.py:212] Using config: {'_model_dir': 'bert_output/', '_tf_random_seed': None, '_save_summary_steps': 100, '_save_checkpoints_steps': 1000, '_save_checkpoints_secs': None, '_session_config': allow_soft_placement: true\n",
            "graph_options {\n",
            "  rewrite_options {\n",
            "    meta_optimizer_iterations: ONE\n",
            "  }\n",
            "}\n",
            ", '_keep_checkpoint_max': 5, '_keep_checkpoint_every_n_hours': 10000, '_log_step_count_steps': None, '_train_distribute': None, '_device_fn': None, '_protocol': None, '_eval_distribute': None, '_experimental_distribute': None, '_experimental_max_worker_delay_secs': None, '_session_creation_timeout_secs': 7200, '_service': None, '_cluster_spec': <tensorflow.python.training.server_lib.ClusterSpec object at 0x7fa41febec50>, '_task_type': 'worker', '_task_id': 0, '_global_id_in_cluster': 0, '_master': '', '_evaluation_master': '', '_is_chief': True, '_num_ps_replicas': 0, '_num_worker_replicas': 1, '_tpu_config': TPUConfig(iterations_per_loop=1000, num_shards=8, num_cores_per_replica=None, per_host_input_for_training=3, tpu_job_name=None, initial_infeed_sleep_secs=None, input_partition_dims=None, eval_training_input_configuration=2, experimental_host_call_every_n_steps=1), '_cluster': None}\n",
            "I0720 08:45:54.596150 140344859711360 tpu_context.py:220] _TPUContext: eval_on_tpu True\n",
            "W0720 08:45:54.596647 140344859711360 tpu_context.py:222] eval_on_tpu ignored because use_tpu is False.\n",
            "W0720 08:45:54.596896 140344859711360 module_wrapper.py:139] From bert_repo/run_classifier.py:202: The name tf.gfile.Open is deprecated. Please use tf.io.gfile.GFile instead.\n",
            "\n",
            "W0720 08:45:54.611755 140344859711360 module_wrapper.py:139] From bert_repo/run_classifier.py:562: The name tf.python_io.TFRecordWriter is deprecated. Please use tf.io.TFRecordWriter instead.\n",
            "\n",
            "W0720 08:45:54.612226 140344859711360 module_wrapper.py:139] From bert_repo/run_classifier.py:566: The name tf.logging.info is deprecated. Please use tf.compat.v1.logging.info instead.\n",
            "\n",
            "I0720 08:45:54.612355 140344859711360 run_classifier.py:566] Writing example 0 of 2210\n",
            "I0720 08:45:54.612691 140344859711360 run_classifier.py:540] *** Example ***\n",
            "I0720 08:45:54.612829 140344859711360 run_classifier.py:541] guid: test-1\n",
            "I0720 08:45:54.612996 140344859711360 run_classifier.py:543] tokens: [CLS] effective but too - te ##pid bio ##pic [SEP]\n",
            "I0720 08:45:54.613175 140344859711360 run_classifier.py:544] input_ids: 101 4621 2021 2205 1011 8915 23267 16012 24330 102 0 0 0 0 0 0 0 0 0 0 0 0 0 0 0 0 0 0 0 0 0 0 0 0 0 0 0 0 0 0 0 0 0 0 0 0 0 0 0 0 0 0 0 0 0 0 0 0 0 0 0 0 0 0 0 0 0 0 0 0 0 0 0 0 0 0 0 0 0 0 0 0 0 0 0 0 0 0 0 0 0 0 0 0 0 0 0 0 0 0 0 0 0 0 0 0 0 0 0 0 0 0 0 0 0 0 0 0 0 0 0 0 0 0 0 0 0 0\n",
            "I0720 08:45:54.613311 140344859711360 run_classifier.py:545] input_mask: 1 1 1 1 1 1 1 1 1 1 0 0 0 0 0 0 0 0 0 0 0 0 0 0 0 0 0 0 0 0 0 0 0 0 0 0 0 0 0 0 0 0 0 0 0 0 0 0 0 0 0 0 0 0 0 0 0 0 0 0 0 0 0 0 0 0 0 0 0 0 0 0 0 0 0 0 0 0 0 0 0 0 0 0 0 0 0 0 0 0 0 0 0 0 0 0 0 0 0 0 0 0 0 0 0 0 0 0 0 0 0 0 0 0 0 0 0 0 0 0 0 0 0 0 0 0 0 0\n",
            "I0720 08:45:54.613445 140344859711360 run_classifier.py:546] segment_ids: 0 0 0 0 0 0 0 0 0 0 0 0 0 0 0 0 0 0 0 0 0 0 0 0 0 0 0 0 0 0 0 0 0 0 0 0 0 0 0 0 0 0 0 0 0 0 0 0 0 0 0 0 0 0 0 0 0 0 0 0 0 0 0 0 0 0 0 0 0 0 0 0 0 0 0 0 0 0 0 0 0 0 0 0 0 0 0 0 0 0 0 0 0 0 0 0 0 0 0 0 0 0 0 0 0 0 0 0 0 0 0 0 0 0 0 0 0 0 0 0 0 0 0 0 0 0 0 0\n",
            "I0720 08:45:54.613531 140344859711360 run_classifier.py:547] label: 0 (id = 0)\n",
            "I0720 08:45:54.614295 140344859711360 run_classifier.py:540] *** Example ***\n",
            "I0720 08:45:54.614412 140344859711360 run_classifier.py:541] guid: test-2\n",
            "I0720 08:45:54.614524 140344859711360 run_classifier.py:543] tokens: [CLS] if you sometimes like to go to the movies to have fun , was ##abi is a good place to start . [SEP]\n",
            "I0720 08:45:54.614669 140344859711360 run_classifier.py:544] input_ids: 101 2065 2017 2823 2066 2000 2175 2000 1996 5691 2000 2031 4569 1010 2001 28518 2003 1037 2204 2173 2000 2707 1012 102 0 0 0 0 0 0 0 0 0 0 0 0 0 0 0 0 0 0 0 0 0 0 0 0 0 0 0 0 0 0 0 0 0 0 0 0 0 0 0 0 0 0 0 0 0 0 0 0 0 0 0 0 0 0 0 0 0 0 0 0 0 0 0 0 0 0 0 0 0 0 0 0 0 0 0 0 0 0 0 0 0 0 0 0 0 0 0 0 0 0 0 0 0 0 0 0 0 0 0 0 0 0 0 0\n",
            "I0720 08:45:54.614804 140344859711360 run_classifier.py:545] input_mask: 1 1 1 1 1 1 1 1 1 1 1 1 1 1 1 1 1 1 1 1 1 1 1 1 0 0 0 0 0 0 0 0 0 0 0 0 0 0 0 0 0 0 0 0 0 0 0 0 0 0 0 0 0 0 0 0 0 0 0 0 0 0 0 0 0 0 0 0 0 0 0 0 0 0 0 0 0 0 0 0 0 0 0 0 0 0 0 0 0 0 0 0 0 0 0 0 0 0 0 0 0 0 0 0 0 0 0 0 0 0 0 0 0 0 0 0 0 0 0 0 0 0 0 0 0 0 0 0\n",
            "I0720 08:45:54.614950 140344859711360 run_classifier.py:546] segment_ids: 0 0 0 0 0 0 0 0 0 0 0 0 0 0 0 0 0 0 0 0 0 0 0 0 0 0 0 0 0 0 0 0 0 0 0 0 0 0 0 0 0 0 0 0 0 0 0 0 0 0 0 0 0 0 0 0 0 0 0 0 0 0 0 0 0 0 0 0 0 0 0 0 0 0 0 0 0 0 0 0 0 0 0 0 0 0 0 0 0 0 0 0 0 0 0 0 0 0 0 0 0 0 0 0 0 0 0 0 0 0 0 0 0 0 0 0 0 0 0 0 0 0 0 0 0 0 0 0\n",
            "I0720 08:45:54.615070 140344859711360 run_classifier.py:547] label: 0 (id = 0)\n",
            "I0720 08:45:54.616322 140344859711360 run_classifier.py:540] *** Example ***\n",
            "I0720 08:45:54.616485 140344859711360 run_classifier.py:541] guid: test-3\n",
            "I0720 08:45:54.616634 140344859711360 run_classifier.py:543] tokens: [CLS] emerges as something rare , an issue movie that ' s so honest and keen ##ly observed that it does n ' t feel like one . [SEP]\n",
            "I0720 08:45:54.616863 140344859711360 run_classifier.py:544] input_ids: 101 19391 2004 2242 4678 1010 2019 3277 3185 2008 1005 1055 2061 7481 1998 10326 2135 5159 2008 2009 2515 1050 1005 1056 2514 2066 2028 1012 102 0 0 0 0 0 0 0 0 0 0 0 0 0 0 0 0 0 0 0 0 0 0 0 0 0 0 0 0 0 0 0 0 0 0 0 0 0 0 0 0 0 0 0 0 0 0 0 0 0 0 0 0 0 0 0 0 0 0 0 0 0 0 0 0 0 0 0 0 0 0 0 0 0 0 0 0 0 0 0 0 0 0 0 0 0 0 0 0 0 0 0 0 0 0 0 0 0 0 0\n",
            "I0720 08:45:54.617064 140344859711360 run_classifier.py:545] input_mask: 1 1 1 1 1 1 1 1 1 1 1 1 1 1 1 1 1 1 1 1 1 1 1 1 1 1 1 1 1 0 0 0 0 0 0 0 0 0 0 0 0 0 0 0 0 0 0 0 0 0 0 0 0 0 0 0 0 0 0 0 0 0 0 0 0 0 0 0 0 0 0 0 0 0 0 0 0 0 0 0 0 0 0 0 0 0 0 0 0 0 0 0 0 0 0 0 0 0 0 0 0 0 0 0 0 0 0 0 0 0 0 0 0 0 0 0 0 0 0 0 0 0 0 0 0 0 0 0\n",
            "I0720 08:45:54.617212 140344859711360 run_classifier.py:546] segment_ids: 0 0 0 0 0 0 0 0 0 0 0 0 0 0 0 0 0 0 0 0 0 0 0 0 0 0 0 0 0 0 0 0 0 0 0 0 0 0 0 0 0 0 0 0 0 0 0 0 0 0 0 0 0 0 0 0 0 0 0 0 0 0 0 0 0 0 0 0 0 0 0 0 0 0 0 0 0 0 0 0 0 0 0 0 0 0 0 0 0 0 0 0 0 0 0 0 0 0 0 0 0 0 0 0 0 0 0 0 0 0 0 0 0 0 0 0 0 0 0 0 0 0 0 0 0 0 0 0\n",
            "I0720 08:45:54.617299 140344859711360 run_classifier.py:547] label: 0 (id = 0)\n",
            "I0720 08:45:54.618174 140344859711360 run_classifier.py:540] *** Example ***\n",
            "I0720 08:45:54.618308 140344859711360 run_classifier.py:541] guid: test-4\n",
            "I0720 08:45:54.618436 140344859711360 run_classifier.py:543] tokens: [CLS] the film provides some great insight into the ne ##uro ##tic minds ##et of all comics - - even those who have reached the absolute top of the game . [SEP]\n",
            "I0720 08:45:54.618581 140344859711360 run_classifier.py:544] input_ids: 101 1996 2143 3640 2070 2307 12369 2046 1996 11265 10976 4588 9273 3388 1997 2035 5888 1011 1011 2130 2216 2040 2031 2584 1996 7619 2327 1997 1996 2208 1012 102 0 0 0 0 0 0 0 0 0 0 0 0 0 0 0 0 0 0 0 0 0 0 0 0 0 0 0 0 0 0 0 0 0 0 0 0 0 0 0 0 0 0 0 0 0 0 0 0 0 0 0 0 0 0 0 0 0 0 0 0 0 0 0 0 0 0 0 0 0 0 0 0 0 0 0 0 0 0 0 0 0 0 0 0 0 0 0 0 0 0 0 0 0 0 0 0\n",
            "I0720 08:45:54.618735 140344859711360 run_classifier.py:545] input_mask: 1 1 1 1 1 1 1 1 1 1 1 1 1 1 1 1 1 1 1 1 1 1 1 1 1 1 1 1 1 1 1 1 0 0 0 0 0 0 0 0 0 0 0 0 0 0 0 0 0 0 0 0 0 0 0 0 0 0 0 0 0 0 0 0 0 0 0 0 0 0 0 0 0 0 0 0 0 0 0 0 0 0 0 0 0 0 0 0 0 0 0 0 0 0 0 0 0 0 0 0 0 0 0 0 0 0 0 0 0 0 0 0 0 0 0 0 0 0 0 0 0 0 0 0 0 0 0 0\n",
            "I0720 08:45:54.618909 140344859711360 run_classifier.py:546] segment_ids: 0 0 0 0 0 0 0 0 0 0 0 0 0 0 0 0 0 0 0 0 0 0 0 0 0 0 0 0 0 0 0 0 0 0 0 0 0 0 0 0 0 0 0 0 0 0 0 0 0 0 0 0 0 0 0 0 0 0 0 0 0 0 0 0 0 0 0 0 0 0 0 0 0 0 0 0 0 0 0 0 0 0 0 0 0 0 0 0 0 0 0 0 0 0 0 0 0 0 0 0 0 0 0 0 0 0 0 0 0 0 0 0 0 0 0 0 0 0 0 0 0 0 0 0 0 0 0 0\n",
            "I0720 08:45:54.619027 140344859711360 run_classifier.py:547] label: 0 (id = 0)\n",
            "I0720 08:45:54.619896 140344859711360 run_classifier.py:540] *** Example ***\n",
            "I0720 08:45:54.620038 140344859711360 run_classifier.py:541] guid: test-5\n",
            "I0720 08:45:54.620151 140344859711360 run_classifier.py:543] tokens: [CLS] offers that rare combination of entertainment and education . [SEP]\n",
            "I0720 08:45:54.620328 140344859711360 run_classifier.py:544] input_ids: 101 4107 2008 4678 5257 1997 4024 1998 2495 1012 102 0 0 0 0 0 0 0 0 0 0 0 0 0 0 0 0 0 0 0 0 0 0 0 0 0 0 0 0 0 0 0 0 0 0 0 0 0 0 0 0 0 0 0 0 0 0 0 0 0 0 0 0 0 0 0 0 0 0 0 0 0 0 0 0 0 0 0 0 0 0 0 0 0 0 0 0 0 0 0 0 0 0 0 0 0 0 0 0 0 0 0 0 0 0 0 0 0 0 0 0 0 0 0 0 0 0 0 0 0 0 0 0 0 0 0 0 0\n",
            "I0720 08:45:54.620478 140344859711360 run_classifier.py:545] input_mask: 1 1 1 1 1 1 1 1 1 1 1 0 0 0 0 0 0 0 0 0 0 0 0 0 0 0 0 0 0 0 0 0 0 0 0 0 0 0 0 0 0 0 0 0 0 0 0 0 0 0 0 0 0 0 0 0 0 0 0 0 0 0 0 0 0 0 0 0 0 0 0 0 0 0 0 0 0 0 0 0 0 0 0 0 0 0 0 0 0 0 0 0 0 0 0 0 0 0 0 0 0 0 0 0 0 0 0 0 0 0 0 0 0 0 0 0 0 0 0 0 0 0 0 0 0 0 0 0\n",
            "I0720 08:45:54.620632 140344859711360 run_classifier.py:546] segment_ids: 0 0 0 0 0 0 0 0 0 0 0 0 0 0 0 0 0 0 0 0 0 0 0 0 0 0 0 0 0 0 0 0 0 0 0 0 0 0 0 0 0 0 0 0 0 0 0 0 0 0 0 0 0 0 0 0 0 0 0 0 0 0 0 0 0 0 0 0 0 0 0 0 0 0 0 0 0 0 0 0 0 0 0 0 0 0 0 0 0 0 0 0 0 0 0 0 0 0 0 0 0 0 0 0 0 0 0 0 0 0 0 0 0 0 0 0 0 0 0 0 0 0 0 0 0 0 0 0\n",
            "I0720 08:45:54.620746 140344859711360 run_classifier.py:547] label: 0 (id = 0)\n",
            "I0720 08:45:55.839284 140344859711360 run_classifier.py:1025] ***** Running prediction*****\n",
            "I0720 08:45:55.839578 140344859711360 run_classifier.py:1028]   Num examples = 2210 (2210 actual, 0 padding)\n",
            "I0720 08:45:55.839714 140344859711360 run_classifier.py:1029]   Batch size = 8\n",
            "W0720 08:45:55.840960 140344859711360 module_wrapper.py:139] From bert_repo/run_classifier.py:593: The name tf.FixedLenFeature is deprecated. Please use tf.io.FixedLenFeature instead.\n",
            "\n",
            "I0720 08:45:55.841157 140344859711360 run_classifier.py:1043] ***** Predict results *****\n",
            "W0720 08:45:55.849596 140344859711360 deprecation.py:506] From /usr/local/lib/python3.6/dist-packages/tensorflow_core/python/ops/resource_variable_ops.py:1630: calling BaseResourceVariable.__init__ (from tensorflow.python.ops.resource_variable_ops) with constraint is deprecated and will be removed in a future version.\n",
            "Instructions for updating:\n",
            "If using Keras pass *_constraint arguments to layers.\n",
            "W0720 08:45:55.870605 140344859711360 deprecation.py:323] From bert_repo/run_classifier.py:629: map_and_batch (from tensorflow.contrib.data.python.ops.batching) is deprecated and will be removed in a future version.\n",
            "Instructions for updating:\n",
            "Use `tf.data.experimental.map_and_batch(...)`.\n",
            "W0720 08:45:55.870812 140344859711360 deprecation.py:323] From /usr/local/lib/python3.6/dist-packages/tensorflow_core/contrib/data/python/ops/batching.py:276: map_and_batch (from tensorflow.python.data.experimental.ops.batching) is deprecated and will be removed in a future version.\n",
            "Instructions for updating:\n",
            "Use `tf.data.Dataset.map(map_func, num_parallel_calls)` followed by `tf.data.Dataset.batch(batch_size, drop_remainder)`. Static tf.data optimizations will take care of using the fused implementation.\n",
            "W0720 08:45:55.940717 140344859711360 module_wrapper.py:139] From /usr/local/lib/python3.6/dist-packages/tensorflow_core/python/autograph/converters/directives.py:119: The name tf.parse_single_example is deprecated. Please use tf.io.parse_single_example instead.\n",
            "\n",
            "W0720 08:45:56.151728 140344859711360 deprecation.py:323] From bert_repo/run_classifier.py:609: to_int32 (from tensorflow.python.ops.math_ops) is deprecated and will be removed in a future version.\n",
            "Instructions for updating:\n",
            "Use `tf.cast` instead.\n",
            "I0720 08:45:56.171760 140344859711360 estimator.py:1148] Calling model_fn.\n",
            "I0720 08:45:56.172002 140344859711360 tpu_estimator.py:3124] Running infer on CPU\n",
            "I0720 08:45:56.172380 140344859711360 run_classifier.py:706] *** Features ***\n",
            "I0720 08:45:56.172548 140344859711360 run_classifier.py:708]   name = input_ids, shape = (?, 128)\n",
            "I0720 08:45:56.172698 140344859711360 run_classifier.py:708]   name = input_mask, shape = (?, 128)\n",
            "I0720 08:45:56.172829 140344859711360 run_classifier.py:708]   name = is_real_example, shape = (?,)\n",
            "I0720 08:45:56.172978 140344859711360 run_classifier.py:708]   name = label_ids, shape = (?,)\n",
            "I0720 08:45:56.173116 140344859711360 run_classifier.py:708]   name = segment_ids, shape = (?, 128)\n",
            "W0720 08:45:56.177444 140344859711360 module_wrapper.py:139] From /content/bert_repo/modeling.py:171: The name tf.variable_scope is deprecated. Please use tf.compat.v1.variable_scope instead.\n",
            "\n",
            "W0720 08:45:56.179313 140344859711360 module_wrapper.py:139] From /content/bert_repo/modeling.py:409: The name tf.get_variable is deprecated. Please use tf.compat.v1.get_variable instead.\n",
            "\n",
            "W0720 08:45:56.214402 140344859711360 module_wrapper.py:139] From /content/bert_repo/modeling.py:490: The name tf.assert_less_equal is deprecated. Please use tf.compat.v1.assert_less_equal instead.\n",
            "\n",
            "W0720 08:45:56.278975 140344859711360 deprecation.py:323] From /content/bert_repo/modeling.py:671: dense (from tensorflow.python.layers.core) is deprecated and will be removed in a future version.\n",
            "Instructions for updating:\n",
            "Use keras.layers.Dense instead.\n",
            "W0720 08:45:56.280381 140344859711360 deprecation.py:323] From /usr/local/lib/python3.6/dist-packages/tensorflow_core/python/layers/core.py:187: Layer.apply (from tensorflow.python.keras.engine.base_layer) is deprecated and will be removed in a future version.\n",
            "Instructions for updating:\n",
            "Please use `layer.__call__` method instead.\n",
            "W0720 08:45:57.015820 140344859711360 module_wrapper.py:139] From bert_repo/run_classifier.py:726: The name tf.trainable_variables is deprecated. Please use tf.compat.v1.trainable_variables instead.\n",
            "\n",
            "W0720 08:45:57.018909 140344859711360 module_wrapper.py:139] From bert_repo/run_classifier.py:740: The name tf.train.init_from_checkpoint is deprecated. Please use tf.compat.v1.train.init_from_checkpoint instead.\n",
            "\n",
            "I0720 08:45:57.278128 140344859711360 run_classifier.py:742] **** Trainable Variables ****\n",
            "I0720 08:45:57.278424 140344859711360 run_classifier.py:748]   name = bert/embeddings/word_embeddings:0, shape = (30522, 512), *INIT_FROM_CKPT*\n",
            "I0720 08:45:57.278577 140344859711360 run_classifier.py:748]   name = bert/embeddings/token_type_embeddings:0, shape = (2, 512), *INIT_FROM_CKPT*\n",
            "I0720 08:45:57.278731 140344859711360 run_classifier.py:748]   name = bert/embeddings/position_embeddings:0, shape = (512, 512), *INIT_FROM_CKPT*\n",
            "I0720 08:45:57.278857 140344859711360 run_classifier.py:748]   name = bert/embeddings/LayerNorm/beta:0, shape = (512,), *INIT_FROM_CKPT*\n",
            "I0720 08:45:57.279024 140344859711360 run_classifier.py:748]   name = bert/embeddings/LayerNorm/gamma:0, shape = (512,), *INIT_FROM_CKPT*\n",
            "I0720 08:45:57.279161 140344859711360 run_classifier.py:748]   name = bert/encoder/layer_0/attention/self/query/kernel:0, shape = (512, 512), *INIT_FROM_CKPT*\n",
            "I0720 08:45:57.279351 140344859711360 run_classifier.py:748]   name = bert/encoder/layer_0/attention/self/query/bias:0, shape = (512,), *INIT_FROM_CKPT*\n",
            "I0720 08:45:57.279473 140344859711360 run_classifier.py:748]   name = bert/encoder/layer_0/attention/self/key/kernel:0, shape = (512, 512), *INIT_FROM_CKPT*\n",
            "I0720 08:45:57.279647 140344859711360 run_classifier.py:748]   name = bert/encoder/layer_0/attention/self/key/bias:0, shape = (512,), *INIT_FROM_CKPT*\n",
            "I0720 08:45:57.279763 140344859711360 run_classifier.py:748]   name = bert/encoder/layer_0/attention/self/value/kernel:0, shape = (512, 512), *INIT_FROM_CKPT*\n",
            "I0720 08:45:57.279899 140344859711360 run_classifier.py:748]   name = bert/encoder/layer_0/attention/self/value/bias:0, shape = (512,), *INIT_FROM_CKPT*\n",
            "I0720 08:45:57.280023 140344859711360 run_classifier.py:748]   name = bert/encoder/layer_0/attention/output/dense/kernel:0, shape = (512, 512), *INIT_FROM_CKPT*\n",
            "I0720 08:45:57.280142 140344859711360 run_classifier.py:748]   name = bert/encoder/layer_0/attention/output/dense/bias:0, shape = (512,), *INIT_FROM_CKPT*\n",
            "I0720 08:45:57.280282 140344859711360 run_classifier.py:748]   name = bert/encoder/layer_0/attention/output/LayerNorm/beta:0, shape = (512,), *INIT_FROM_CKPT*\n",
            "I0720 08:45:57.280405 140344859711360 run_classifier.py:748]   name = bert/encoder/layer_0/attention/output/LayerNorm/gamma:0, shape = (512,), *INIT_FROM_CKPT*\n",
            "I0720 08:45:57.280533 140344859711360 run_classifier.py:748]   name = bert/encoder/layer_0/intermediate/dense/kernel:0, shape = (512, 2048), *INIT_FROM_CKPT*\n",
            "I0720 08:45:57.280658 140344859711360 run_classifier.py:748]   name = bert/encoder/layer_0/intermediate/dense/bias:0, shape = (2048,), *INIT_FROM_CKPT*\n",
            "I0720 08:45:57.280768 140344859711360 run_classifier.py:748]   name = bert/encoder/layer_0/output/dense/kernel:0, shape = (2048, 512), *INIT_FROM_CKPT*\n",
            "I0720 08:45:57.280936 140344859711360 run_classifier.py:748]   name = bert/encoder/layer_0/output/dense/bias:0, shape = (512,), *INIT_FROM_CKPT*\n",
            "I0720 08:45:57.281053 140344859711360 run_classifier.py:748]   name = bert/encoder/layer_0/output/LayerNorm/beta:0, shape = (512,), *INIT_FROM_CKPT*\n",
            "I0720 08:45:57.281177 140344859711360 run_classifier.py:748]   name = bert/encoder/layer_0/output/LayerNorm/gamma:0, shape = (512,), *INIT_FROM_CKPT*\n",
            "I0720 08:45:57.281317 140344859711360 run_classifier.py:748]   name = bert/encoder/layer_1/attention/self/query/kernel:0, shape = (512, 512), *INIT_FROM_CKPT*\n",
            "I0720 08:45:57.281440 140344859711360 run_classifier.py:748]   name = bert/encoder/layer_1/attention/self/query/bias:0, shape = (512,), *INIT_FROM_CKPT*\n",
            "I0720 08:45:57.281553 140344859711360 run_classifier.py:748]   name = bert/encoder/layer_1/attention/self/key/kernel:0, shape = (512, 512), *INIT_FROM_CKPT*\n",
            "I0720 08:45:57.281669 140344859711360 run_classifier.py:748]   name = bert/encoder/layer_1/attention/self/key/bias:0, shape = (512,), *INIT_FROM_CKPT*\n",
            "I0720 08:45:57.281795 140344859711360 run_classifier.py:748]   name = bert/encoder/layer_1/attention/self/value/kernel:0, shape = (512, 512), *INIT_FROM_CKPT*\n",
            "I0720 08:45:57.281926 140344859711360 run_classifier.py:748]   name = bert/encoder/layer_1/attention/self/value/bias:0, shape = (512,), *INIT_FROM_CKPT*\n",
            "I0720 08:45:57.282040 140344859711360 run_classifier.py:748]   name = bert/encoder/layer_1/attention/output/dense/kernel:0, shape = (512, 512), *INIT_FROM_CKPT*\n",
            "I0720 08:45:57.282155 140344859711360 run_classifier.py:748]   name = bert/encoder/layer_1/attention/output/dense/bias:0, shape = (512,), *INIT_FROM_CKPT*\n",
            "I0720 08:45:57.282266 140344859711360 run_classifier.py:748]   name = bert/encoder/layer_1/attention/output/LayerNorm/beta:0, shape = (512,), *INIT_FROM_CKPT*\n",
            "I0720 08:45:57.282389 140344859711360 run_classifier.py:748]   name = bert/encoder/layer_1/attention/output/LayerNorm/gamma:0, shape = (512,), *INIT_FROM_CKPT*\n",
            "I0720 08:45:57.282536 140344859711360 run_classifier.py:748]   name = bert/encoder/layer_1/intermediate/dense/kernel:0, shape = (512, 2048), *INIT_FROM_CKPT*\n",
            "I0720 08:45:57.282654 140344859711360 run_classifier.py:748]   name = bert/encoder/layer_1/intermediate/dense/bias:0, shape = (2048,), *INIT_FROM_CKPT*\n",
            "I0720 08:45:57.282766 140344859711360 run_classifier.py:748]   name = bert/encoder/layer_1/output/dense/kernel:0, shape = (2048, 512), *INIT_FROM_CKPT*\n",
            "I0720 08:45:57.282900 140344859711360 run_classifier.py:748]   name = bert/encoder/layer_1/output/dense/bias:0, shape = (512,), *INIT_FROM_CKPT*\n",
            "I0720 08:45:57.283020 140344859711360 run_classifier.py:748]   name = bert/encoder/layer_1/output/LayerNorm/beta:0, shape = (512,), *INIT_FROM_CKPT*\n",
            "I0720 08:45:57.283131 140344859711360 run_classifier.py:748]   name = bert/encoder/layer_1/output/LayerNorm/gamma:0, shape = (512,), *INIT_FROM_CKPT*\n",
            "I0720 08:45:57.283251 140344859711360 run_classifier.py:748]   name = bert/encoder/layer_2/attention/self/query/kernel:0, shape = (512, 512), *INIT_FROM_CKPT*\n",
            "I0720 08:45:57.283365 140344859711360 run_classifier.py:748]   name = bert/encoder/layer_2/attention/self/query/bias:0, shape = (512,), *INIT_FROM_CKPT*\n",
            "I0720 08:45:57.283500 140344859711360 run_classifier.py:748]   name = bert/encoder/layer_2/attention/self/key/kernel:0, shape = (512, 512), *INIT_FROM_CKPT*\n",
            "I0720 08:45:57.283629 140344859711360 run_classifier.py:748]   name = bert/encoder/layer_2/attention/self/key/bias:0, shape = (512,), *INIT_FROM_CKPT*\n",
            "I0720 08:45:57.283740 140344859711360 run_classifier.py:748]   name = bert/encoder/layer_2/attention/self/value/kernel:0, shape = (512, 512), *INIT_FROM_CKPT*\n",
            "I0720 08:45:57.283888 140344859711360 run_classifier.py:748]   name = bert/encoder/layer_2/attention/self/value/bias:0, shape = (512,), *INIT_FROM_CKPT*\n",
            "I0720 08:45:57.284006 140344859711360 run_classifier.py:748]   name = bert/encoder/layer_2/attention/output/dense/kernel:0, shape = (512, 512), *INIT_FROM_CKPT*\n",
            "I0720 08:45:57.284119 140344859711360 run_classifier.py:748]   name = bert/encoder/layer_2/attention/output/dense/bias:0, shape = (512,), *INIT_FROM_CKPT*\n",
            "I0720 08:45:57.284230 140344859711360 run_classifier.py:748]   name = bert/encoder/layer_2/attention/output/LayerNorm/beta:0, shape = (512,), *INIT_FROM_CKPT*\n",
            "I0720 08:45:57.284353 140344859711360 run_classifier.py:748]   name = bert/encoder/layer_2/attention/output/LayerNorm/gamma:0, shape = (512,), *INIT_FROM_CKPT*\n",
            "I0720 08:45:57.284471 140344859711360 run_classifier.py:748]   name = bert/encoder/layer_2/intermediate/dense/kernel:0, shape = (512, 2048), *INIT_FROM_CKPT*\n",
            "I0720 08:45:57.284586 140344859711360 run_classifier.py:748]   name = bert/encoder/layer_2/intermediate/dense/bias:0, shape = (2048,), *INIT_FROM_CKPT*\n",
            "I0720 08:45:57.284697 140344859711360 run_classifier.py:748]   name = bert/encoder/layer_2/output/dense/kernel:0, shape = (2048, 512), *INIT_FROM_CKPT*\n",
            "I0720 08:45:57.284812 140344859711360 run_classifier.py:748]   name = bert/encoder/layer_2/output/dense/bias:0, shape = (512,), *INIT_FROM_CKPT*\n",
            "I0720 08:45:57.284940 140344859711360 run_classifier.py:748]   name = bert/encoder/layer_2/output/LayerNorm/beta:0, shape = (512,), *INIT_FROM_CKPT*\n",
            "I0720 08:45:57.285054 140344859711360 run_classifier.py:748]   name = bert/encoder/layer_2/output/LayerNorm/gamma:0, shape = (512,), *INIT_FROM_CKPT*\n",
            "I0720 08:45:57.285168 140344859711360 run_classifier.py:748]   name = bert/encoder/layer_3/attention/self/query/kernel:0, shape = (512, 512), *INIT_FROM_CKPT*\n",
            "I0720 08:45:57.285287 140344859711360 run_classifier.py:748]   name = bert/encoder/layer_3/attention/self/query/bias:0, shape = (512,), *INIT_FROM_CKPT*\n",
            "I0720 08:45:57.285397 140344859711360 run_classifier.py:748]   name = bert/encoder/layer_3/attention/self/key/kernel:0, shape = (512, 512), *INIT_FROM_CKPT*\n",
            "I0720 08:45:57.285518 140344859711360 run_classifier.py:748]   name = bert/encoder/layer_3/attention/self/key/bias:0, shape = (512,), *INIT_FROM_CKPT*\n",
            "I0720 08:45:57.285629 140344859711360 run_classifier.py:748]   name = bert/encoder/layer_3/attention/self/value/kernel:0, shape = (512, 512), *INIT_FROM_CKPT*\n",
            "I0720 08:45:57.285742 140344859711360 run_classifier.py:748]   name = bert/encoder/layer_3/attention/self/value/bias:0, shape = (512,), *INIT_FROM_CKPT*\n",
            "I0720 08:45:57.285851 140344859711360 run_classifier.py:748]   name = bert/encoder/layer_3/attention/output/dense/kernel:0, shape = (512, 512), *INIT_FROM_CKPT*\n",
            "I0720 08:45:57.285980 140344859711360 run_classifier.py:748]   name = bert/encoder/layer_3/attention/output/dense/bias:0, shape = (512,), *INIT_FROM_CKPT*\n",
            "I0720 08:45:57.286092 140344859711360 run_classifier.py:748]   name = bert/encoder/layer_3/attention/output/LayerNorm/beta:0, shape = (512,), *INIT_FROM_CKPT*\n",
            "I0720 08:45:57.286202 140344859711360 run_classifier.py:748]   name = bert/encoder/layer_3/attention/output/LayerNorm/gamma:0, shape = (512,), *INIT_FROM_CKPT*\n",
            "I0720 08:45:57.286313 140344859711360 run_classifier.py:748]   name = bert/encoder/layer_3/intermediate/dense/kernel:0, shape = (512, 2048), *INIT_FROM_CKPT*\n",
            "I0720 08:45:57.286425 140344859711360 run_classifier.py:748]   name = bert/encoder/layer_3/intermediate/dense/bias:0, shape = (2048,), *INIT_FROM_CKPT*\n",
            "I0720 08:45:57.286543 140344859711360 run_classifier.py:748]   name = bert/encoder/layer_3/output/dense/kernel:0, shape = (2048, 512), *INIT_FROM_CKPT*\n",
            "I0720 08:45:57.286658 140344859711360 run_classifier.py:748]   name = bert/encoder/layer_3/output/dense/bias:0, shape = (512,), *INIT_FROM_CKPT*\n",
            "I0720 08:45:57.286768 140344859711360 run_classifier.py:748]   name = bert/encoder/layer_3/output/LayerNorm/beta:0, shape = (512,), *INIT_FROM_CKPT*\n",
            "I0720 08:45:57.286893 140344859711360 run_classifier.py:748]   name = bert/encoder/layer_3/output/LayerNorm/gamma:0, shape = (512,), *INIT_FROM_CKPT*\n",
            "I0720 08:45:57.287000 140344859711360 run_classifier.py:748]   name = bert/pooler/dense/kernel:0, shape = (512, 512), *INIT_FROM_CKPT*\n",
            "I0720 08:45:57.287113 140344859711360 run_classifier.py:748]   name = bert/pooler/dense/bias:0, shape = (512,), *INIT_FROM_CKPT*\n",
            "I0720 08:45:57.287225 140344859711360 run_classifier.py:748]   name = output_weights:0, shape = (5, 512), *INIT_FROM_CKPT*\n",
            "I0720 08:45:57.287347 140344859711360 run_classifier.py:748]   name = output_bias:0, shape = (5,), *INIT_FROM_CKPT*\n",
            "I0720 08:45:57.287883 140344859711360 estimator.py:1150] Done calling model_fn.\n",
            "W0720 08:45:57.367544 140344859711360 deprecation.py:323] From /usr/local/lib/python3.6/dist-packages/tensorflow_core/python/ops/array_ops.py:1475: where (from tensorflow.python.ops.array_ops) is deprecated and will be removed in a future version.\n",
            "Instructions for updating:\n",
            "Use tf.where in 2.0, which has the same broadcast rule as np.where\n",
            "I0720 08:45:57.531687 140344859711360 monitored_session.py:240] Graph was finalized.\n",
            "2020-07-20 08:45:57.532133: I tensorflow/core/platform/cpu_feature_guard.cc:142] Your CPU supports instructions that this TensorFlow binary was not compiled to use: AVX2 FMA\n",
            "2020-07-20 08:45:57.538033: I tensorflow/core/platform/profile_utils/cpu_utils.cc:94] CPU Frequency: 2300000000 Hz\n",
            "2020-07-20 08:45:57.538323: I tensorflow/compiler/xla/service/service.cc:168] XLA service 0x26bf2c0 initialized for platform Host (this does not guarantee that XLA will be used). Devices:\n",
            "2020-07-20 08:45:57.538362: I tensorflow/compiler/xla/service/service.cc:176]   StreamExecutor device (0): Host, Default Version\n",
            "2020-07-20 08:45:57.540626: I tensorflow/stream_executor/platform/default/dso_loader.cc:44] Successfully opened dynamic library libcuda.so.1\n",
            "2020-07-20 08:45:57.618956: I tensorflow/stream_executor/cuda/cuda_gpu_executor.cc:983] successful NUMA node read from SysFS had negative value (-1), but there must be at least one NUMA node, so returning NUMA node zero\n",
            "2020-07-20 08:45:57.619917: I tensorflow/compiler/xla/service/service.cc:168] XLA service 0x26bf480 initialized for platform CUDA (this does not guarantee that XLA will be used). Devices:\n",
            "2020-07-20 08:45:57.619972: I tensorflow/compiler/xla/service/service.cc:176]   StreamExecutor device (0): Tesla K80, Compute Capability 3.7\n",
            "2020-07-20 08:45:57.620273: I tensorflow/stream_executor/cuda/cuda_gpu_executor.cc:983] successful NUMA node read from SysFS had negative value (-1), but there must be at least one NUMA node, so returning NUMA node zero\n",
            "2020-07-20 08:45:57.620988: I tensorflow/core/common_runtime/gpu/gpu_device.cc:1618] Found device 0 with properties: \n",
            "name: Tesla K80 major: 3 minor: 7 memoryClockRate(GHz): 0.8235\n",
            "pciBusID: 0000:00:04.0\n",
            "2020-07-20 08:45:57.621454: I tensorflow/stream_executor/platform/default/dso_loader.cc:44] Successfully opened dynamic library libcudart.so.10.0\n",
            "2020-07-20 08:45:57.623776: I tensorflow/stream_executor/platform/default/dso_loader.cc:44] Successfully opened dynamic library libcublas.so.10.0\n",
            "2020-07-20 08:45:57.626194: I tensorflow/stream_executor/platform/default/dso_loader.cc:44] Successfully opened dynamic library libcufft.so.10.0\n",
            "2020-07-20 08:45:57.626972: I tensorflow/stream_executor/platform/default/dso_loader.cc:44] Successfully opened dynamic library libcurand.so.10.0\n",
            "2020-07-20 08:45:57.629850: I tensorflow/stream_executor/platform/default/dso_loader.cc:44] Successfully opened dynamic library libcusolver.so.10.0\n",
            "2020-07-20 08:45:57.632004: I tensorflow/stream_executor/platform/default/dso_loader.cc:44] Successfully opened dynamic library libcusparse.so.10.0\n",
            "2020-07-20 08:45:57.636442: I tensorflow/stream_executor/platform/default/dso_loader.cc:44] Successfully opened dynamic library libcudnn.so.7\n",
            "2020-07-20 08:45:57.636626: I tensorflow/stream_executor/cuda/cuda_gpu_executor.cc:983] successful NUMA node read from SysFS had negative value (-1), but there must be at least one NUMA node, so returning NUMA node zero\n",
            "2020-07-20 08:45:57.637420: I tensorflow/stream_executor/cuda/cuda_gpu_executor.cc:983] successful NUMA node read from SysFS had negative value (-1), but there must be at least one NUMA node, so returning NUMA node zero\n",
            "2020-07-20 08:45:57.638093: I tensorflow/core/common_runtime/gpu/gpu_device.cc:1746] Adding visible gpu devices: 0\n",
            "2020-07-20 08:45:57.638168: I tensorflow/stream_executor/platform/default/dso_loader.cc:44] Successfully opened dynamic library libcudart.so.10.0\n",
            "2020-07-20 08:45:57.639801: I tensorflow/core/common_runtime/gpu/gpu_device.cc:1159] Device interconnect StreamExecutor with strength 1 edge matrix:\n",
            "2020-07-20 08:45:57.639837: I tensorflow/core/common_runtime/gpu/gpu_device.cc:1165]      0 \n",
            "2020-07-20 08:45:57.639854: I tensorflow/core/common_runtime/gpu/gpu_device.cc:1178] 0:   N \n",
            "2020-07-20 08:45:57.640082: I tensorflow/stream_executor/cuda/cuda_gpu_executor.cc:983] successful NUMA node read from SysFS had negative value (-1), but there must be at least one NUMA node, so returning NUMA node zero\n",
            "2020-07-20 08:45:57.640937: I tensorflow/stream_executor/cuda/cuda_gpu_executor.cc:983] successful NUMA node read from SysFS had negative value (-1), but there must be at least one NUMA node, so returning NUMA node zero\n",
            "2020-07-20 08:45:57.641687: W tensorflow/core/common_runtime/gpu/gpu_bfc_allocator.cc:39] Overriding allow_growth setting because the TF_FORCE_GPU_ALLOW_GROWTH environment variable is set. Original config value was 0.\n",
            "2020-07-20 08:45:57.641743: I tensorflow/core/common_runtime/gpu/gpu_device.cc:1304] Created TensorFlow device (/job:localhost/replica:0/task:0/device:GPU:0 with 10805 MB memory) -> physical GPU (device: 0, name: Tesla K80, pci bus id: 0000:00:04.0, compute capability: 3.7)\n",
            "I0720 08:45:57.643923 140344859711360 saver.py:1284] Restoring parameters from bert_output/model.ckpt-9042\n",
            "I0720 08:45:58.435986 140344859711360 session_manager.py:500] Running local_init_op.\n",
            "I0720 08:45:58.452759 140344859711360 session_manager.py:502] Done running local_init_op.\n",
            "2020-07-20 08:45:58.683491: I tensorflow/stream_executor/platform/default/dso_loader.cc:44] Successfully opened dynamic library libcublas.so.10.0\n",
            "I0720 08:46:06.727478 140344859711360 error_handling.py:101] prediction_loop marked as finished\n",
            "I0720 08:46:06.727696 140344859711360 error_handling.py:101] prediction_loop marked as finished\n"
          ],
          "name": "stdout"
        }
      ]
    },
    {
      "cell_type": "markdown",
      "metadata": {
        "id": "wpDD5AE-AEzp",
        "colab_type": "text"
      },
      "source": [
        "# New Section"
      ]
    },
    {
      "cell_type": "code",
      "metadata": {
        "id": "_Izl9SD5AS2n",
        "colab_type": "code",
        "colab": {}
      },
      "source": [
        ""
      ],
      "execution_count": null,
      "outputs": []
    }
  ]
}