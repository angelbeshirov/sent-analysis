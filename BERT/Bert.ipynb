{
 "cells": [
  {
   "cell_type": "code",
   "execution_count": 1,
   "metadata": {},
   "outputs": [],
   "source": [
    "import sys\n",
    "sys.path.append('./tree-parser')\n",
    "\n",
    "import tree as tr\n",
    "import tree_parser as tp\n",
    "\n",
    "import numpy as np\n",
    "import pandas as pd\n",
    "import matplotlib.pyplot as plt\n",
    "import seaborn as sn\n",
    "\n",
    "import csv\n",
    "\n",
    "from sklearn.metrics import confusion_matrix\n",
    "from sklearn import metrics\n",
    "from sklearn.preprocessing import LabelEncoder\n",
    "from sklearn.model_selection import train_test_split"
   ]
  },
  {
   "cell_type": "code",
   "execution_count": 2,
   "metadata": {},
   "outputs": [],
   "source": [
    "filename_train = \"train_bert.tsv\"\n",
    "filename_dev = \"dev_bert.tsv\"\n",
    "filename_test = \"test_bert.tsv\""
   ]
  },
  {
   "cell_type": "code",
   "execution_count": 3,
   "metadata": {},
   "outputs": [],
   "source": [
    "# This will have to be changed to parse the csv properly\n",
    "\n",
    "max_phrase_length = 30\n",
    "\n",
    "def get_labels_and_data(csvfile):\n",
    "    labels = []\n",
    "    sentences = []\n",
    "    with open(csvfile, mode ='r') as file: \n",
    "        file_to_read = csv.reader(file) \n",
    "        for line in file_to_read:\n",
    "            #print(line)\n",
    "            labels.append(line[0])\n",
    "            sentences.append(line[1])\n",
    "            \n",
    "    return labels, sentences"
   ]
  },
  {
   "cell_type": "code",
   "execution_count": 4,
   "metadata": {},
   "outputs": [
    {
     "name": "stdout",
     "output_type": "stream",
     "text": [
      "3000\n",
      "200\n",
      "2210\n"
     ]
    },
    {
     "data": {
      "text/html": [
       "<div>\n",
       "<style scoped>\n",
       "    .dataframe tbody tr th:only-of-type {\n",
       "        vertical-align: middle;\n",
       "    }\n",
       "\n",
       "    .dataframe tbody tr th {\n",
       "        vertical-align: top;\n",
       "    }\n",
       "\n",
       "    .dataframe thead th {\n",
       "        text-align: right;\n",
       "    }\n",
       "</style>\n",
       "<table border=\"1\" class=\"dataframe\">\n",
       "  <thead>\n",
       "    <tr style=\"text-align: right;\">\n",
       "      <th></th>\n",
       "      <th>id</th>\n",
       "      <th>label</th>\n",
       "      <th>alpha</th>\n",
       "      <th>text</th>\n",
       "    </tr>\n",
       "  </thead>\n",
       "  <tbody>\n",
       "    <tr>\n",
       "      <th>0</th>\n",
       "      <td>0</td>\n",
       "      <td>3</td>\n",
       "      <td>a</td>\n",
       "      <td>the rock is destined to be the 21st century 's...</td>\n",
       "    </tr>\n",
       "    <tr>\n",
       "      <th>1</th>\n",
       "      <td>1</td>\n",
       "      <td>4</td>\n",
       "      <td>a</td>\n",
       "      <td>the gorgeously elaborate continuation of `` th...</td>\n",
       "    </tr>\n",
       "    <tr>\n",
       "      <th>2</th>\n",
       "      <td>2</td>\n",
       "      <td>3</td>\n",
       "      <td>a</td>\n",
       "      <td>singer\\/composer bryan adams contributes a sle...</td>\n",
       "    </tr>\n",
       "    <tr>\n",
       "      <th>3</th>\n",
       "      <td>3</td>\n",
       "      <td>2</td>\n",
       "      <td>a</td>\n",
       "      <td>you 'd think by now america would have had eno...</td>\n",
       "    </tr>\n",
       "    <tr>\n",
       "      <th>4</th>\n",
       "      <td>4</td>\n",
       "      <td>3</td>\n",
       "      <td>a</td>\n",
       "      <td>yet the act is still charming here .</td>\n",
       "    </tr>\n",
       "  </tbody>\n",
       "</table>\n",
       "</div>"
      ],
      "text/plain": [
       "   id label alpha                                               text\n",
       "0   0     3     a  the rock is destined to be the 21st century 's...\n",
       "1   1     4     a  the gorgeously elaborate continuation of `` th...\n",
       "2   2     3     a  singer\\/composer bryan adams contributes a sle...\n",
       "3   3     2     a  you 'd think by now america would have had eno...\n",
       "4   4     3     a               yet the act is still charming here ."
      ]
     },
     "execution_count": 4,
     "metadata": {},
     "output_type": "execute_result"
    }
   ],
   "source": [
    "train_size = 3000\n",
    "valid_size = 200\n",
    "test_size = 3000\n",
    "\n",
    "labels_train, sentences_train = get_labels_and_data(\"tree-parser/full_sentences/train.csv\")\n",
    "labels_dev, sentences_dev = get_labels_and_data(\"tree-parser/full_sentences/dev.csv\")\n",
    "labels_test, sentences_test = get_labels_and_data(\"tree-parser/full_sentences/test.csv\")\n",
    "\n",
    "labels_train, sentences_train = labels_train[:train_size], sentences_train[:train_size]\n",
    "labels_dev, sentences_dev = labels_dev[:valid_size], sentences_dev[:valid_size]\n",
    "labels_test, sentences_test = labels_test[:test_size], sentences_test[:test_size]\n",
    "\n",
    "print(len(sentences_train))\n",
    "print(len(sentences_dev))\n",
    "print(len(sentences_test))\n",
    "\n",
    "df_bert_train = pd.DataFrame({\n",
    "     'id': range(len(sentences_train)),\n",
    "     'label': labels_train,\n",
    "     'alpha': ['a']*len(labels_train), # This is needed by the bert model\n",
    "     'text': sentences_train\n",
    "})\n",
    "\n",
    "df_bert_train.head()"
   ]
  },
  {
   "cell_type": "code",
   "execution_count": 5,
   "metadata": {},
   "outputs": [
    {
     "data": {
      "text/html": [
       "<div>\n",
       "<style scoped>\n",
       "    .dataframe tbody tr th:only-of-type {\n",
       "        vertical-align: middle;\n",
       "    }\n",
       "\n",
       "    .dataframe tbody tr th {\n",
       "        vertical-align: top;\n",
       "    }\n",
       "\n",
       "    .dataframe thead th {\n",
       "        text-align: right;\n",
       "    }\n",
       "</style>\n",
       "<table border=\"1\" class=\"dataframe\">\n",
       "  <thead>\n",
       "    <tr style=\"text-align: right;\">\n",
       "      <th></th>\n",
       "      <th>id</th>\n",
       "      <th>label</th>\n",
       "      <th>alpha</th>\n",
       "      <th>text</th>\n",
       "    </tr>\n",
       "  </thead>\n",
       "  <tbody>\n",
       "    <tr>\n",
       "      <th>0</th>\n",
       "      <td>0</td>\n",
       "      <td>3</td>\n",
       "      <td>a</td>\n",
       "      <td>it 's a lovely film with lovely performances b...</td>\n",
       "    </tr>\n",
       "    <tr>\n",
       "      <th>1</th>\n",
       "      <td>1</td>\n",
       "      <td>2</td>\n",
       "      <td>a</td>\n",
       "      <td>no one goes unindicted here</td>\n",
       "    </tr>\n",
       "    <tr>\n",
       "      <th>2</th>\n",
       "      <td>2</td>\n",
       "      <td>3</td>\n",
       "      <td>a</td>\n",
       "      <td>and if you 're not nearly moved to tears by a ...</td>\n",
       "    </tr>\n",
       "    <tr>\n",
       "      <th>3</th>\n",
       "      <td>3</td>\n",
       "      <td>4</td>\n",
       "      <td>a</td>\n",
       "      <td>a warm</td>\n",
       "    </tr>\n",
       "    <tr>\n",
       "      <th>4</th>\n",
       "      <td>4</td>\n",
       "      <td>4</td>\n",
       "      <td>a</td>\n",
       "      <td>uses sharp humor and insight into human nature...</td>\n",
       "    </tr>\n",
       "  </tbody>\n",
       "</table>\n",
       "</div>"
      ],
      "text/plain": [
       "   id label alpha                                               text\n",
       "0   0     3     a  it 's a lovely film with lovely performances b...\n",
       "1   1     2     a                       no one goes unindicted here \n",
       "2   2     3     a  and if you 're not nearly moved to tears by a ...\n",
       "3   3     4     a                                            a warm \n",
       "4   4     4     a  uses sharp humor and insight into human nature..."
      ]
     },
     "execution_count": 5,
     "metadata": {},
     "output_type": "execute_result"
    }
   ],
   "source": [
    "df_bert_dev = pd.DataFrame({\n",
    "    'id': range(len(sentences_dev)),\n",
    "    'label': labels_dev,\n",
    "    'alpha': ['a']*len(labels_dev),\n",
    "    'text': sentences_dev\n",
    "})\n",
    "\n",
    "df_bert_dev.head()"
   ]
  },
  {
   "cell_type": "code",
   "execution_count": 6,
   "metadata": {},
   "outputs": [
    {
     "data": {
      "text/html": [
       "<div>\n",
       "<style scoped>\n",
       "    .dataframe tbody tr th:only-of-type {\n",
       "        vertical-align: middle;\n",
       "    }\n",
       "\n",
       "    .dataframe tbody tr th {\n",
       "        vertical-align: top;\n",
       "    }\n",
       "\n",
       "    .dataframe thead th {\n",
       "        text-align: right;\n",
       "    }\n",
       "</style>\n",
       "<table border=\"1\" class=\"dataframe\">\n",
       "  <thead>\n",
       "    <tr style=\"text-align: right;\">\n",
       "      <th></th>\n",
       "      <th>id</th>\n",
       "      <th>text</th>\n",
       "    </tr>\n",
       "  </thead>\n",
       "  <tbody>\n",
       "    <tr>\n",
       "      <th>0</th>\n",
       "      <td>0</td>\n",
       "      <td>effective but too-tepid biopic</td>\n",
       "    </tr>\n",
       "    <tr>\n",
       "      <th>1</th>\n",
       "      <td>1</td>\n",
       "      <td>if you sometimes like to go to the movies to h...</td>\n",
       "    </tr>\n",
       "    <tr>\n",
       "      <th>2</th>\n",
       "      <td>2</td>\n",
       "      <td>emerges as something rare</td>\n",
       "    </tr>\n",
       "    <tr>\n",
       "      <th>3</th>\n",
       "      <td>3</td>\n",
       "      <td>the film provides some great insight into the ...</td>\n",
       "    </tr>\n",
       "    <tr>\n",
       "      <th>4</th>\n",
       "      <td>4</td>\n",
       "      <td>offers that rare combination of entertainment ...</td>\n",
       "    </tr>\n",
       "  </tbody>\n",
       "</table>\n",
       "</div>"
      ],
      "text/plain": [
       "   id                                               text\n",
       "0   0                     effective but too-tepid biopic\n",
       "1   1  if you sometimes like to go to the movies to h...\n",
       "2   2                         emerges as something rare \n",
       "3   3  the film provides some great insight into the ...\n",
       "4   4  offers that rare combination of entertainment ..."
      ]
     },
     "execution_count": 6,
     "metadata": {},
     "output_type": "execute_result"
    }
   ],
   "source": [
    "df_bert_test = pd.DataFrame({\n",
    "     'id':range(len(sentences_test)),\n",
    "     'text': sentences_test\n",
    "})\n",
    "\n",
    "df_bert_test.head()\n"
   ]
  },
  {
   "cell_type": "code",
   "execution_count": 7,
   "metadata": {},
   "outputs": [],
   "source": [
    "df_bert_train.to_csv('bert/train.tsv', sep='\\t', index=False, header=False)\n",
    "df_bert_dev.to_csv('bert/dev.tsv', sep='\\t', index=False, header=False)\n",
    "df_bert_test.to_csv('bert/test.tsv', sep='\\t', index=False, header=True)"
   ]
  },
  {
   "cell_type": "code",
   "execution_count": 9,
   "metadata": {
    "scrolled": false
   },
   "outputs": [
    {
     "name": "stdout",
     "output_type": "stream",
     "text": [
      "[[  0   0   0 279   0]\n",
      " [  0   0   0 633   0]\n",
      " [  0   0   0 389   0]\n",
      " [  0   0   0 510   0]\n",
      " [  0   0   0 399   0]]\n",
      "Accuracy 0.23076923076923078\n"
     ]
    },
    {
     "data": {
      "image/png": "[encoded data removed]",
      "text/plain": [
       "<Figure size 720x504 with 2 Axes>"
      ]
     },
     "metadata": {
      "needs_background": "light"
     },
     "output_type": "display_data"
    }
   ],
   "source": [
    "path_to_test_result = \"../BERT/BERT/bert_output/test_results.tsv\"\n",
    "\n",
    "label_results=[]\n",
    "pd.DataFrame()\n",
    "\n",
    "with open(path_to_test_result) as file:\n",
    "    result = csv.reader(file, delimiter=\"\\t\")\n",
    "    for row in result:\n",
    "        data =[float(i) for i in row]\n",
    "        label_results.append(np.argmax(data))\n",
    "        \n",
    "df_results=pd.DataFrame()\n",
    "df_results=pd.DataFrame(label_results)\n",
    "df_results[0]\n",
    "\n",
    "for i in range(0, len(labels_test)): \n",
    "    labels_test[i] = int(labels_test[i]) \n",
    "\n",
    "cm = confusion_matrix(labels_test, df_results[0])\n",
    "df_cm = pd.DataFrame(cm, index = [i for i in \"01234\"],\n",
    "                  columns = [i for i in \"01234\"])\n",
    "print(cm)\n",
    "plt.figure(figsize = (10,7))\n",
    "sn.heatmap(df_cm, annot=True)\n",
    "\n",
    "print(\"Accuracy\",metrics.accuracy_score(labels_test[:test_size], df_results[0]))"
   ]
  },
  {
   "cell_type": "code",
   "execution_count": null,
   "metadata": {},
   "outputs": [],
   "source": []
  }
 ],
 "metadata": {
  "kernelspec": {
   "display_name": "Python 3",
   "language": "python",
   "name": "python3"
  },
  "language_info": {
   "codemirror_mode": {
    "name": "ipython",
    "version": 3
   },
   "file_extension": ".py",
   "mimetype": "text/x-python",
   "name": "python",
   "nbconvert_exporter": "python",
   "pygments_lexer": "ipython3",
   "version": "3.6.9"
  }
 },
 "nbformat": 4,
 "nbformat_minor": 2
}
