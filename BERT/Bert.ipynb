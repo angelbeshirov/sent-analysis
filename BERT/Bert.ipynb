{
 "cells": [
  {
   "cell_type": "code",
   "execution_count": 1,
   "metadata": {},
   "outputs": [],
   "source": [
    "import sys\n",
    "\n",
    "import numpy as np\n",
    "import pandas as pd\n",
    "import matplotlib.pyplot as plt\n",
    "import seaborn as sn\n",
    "\n",
    "import csv\n",
    "\n",
    "from sklearn.metrics import confusion_matrix\n",
    "from sklearn import metrics\n",
    "from sklearn.preprocessing import LabelEncoder\n",
    "from sklearn.model_selection import train_test_split"
   ]
  },
  {
   "cell_type": "code",
   "execution_count": 2,
   "metadata": {},
   "outputs": [],
   "source": [
    "filename_test_binary = \"glue_data/SST-2/test.tsv\"\n",
    "filename_test_fine_grained = \"glue_data/SST-5/test.tsv\""
   ]
  },
  {
   "cell_type": "code",
   "execution_count": 3,
   "metadata": {},
   "outputs": [],
   "source": [
    "def get_labels_and_sentences(tsvfile):\n",
    "    labels = []\n",
    "    sentences = []\n",
    "    with open(tsvfile, mode ='r') as file_to_read: \n",
    "        file = csv.reader(file_to_read, delimiter='\\t') \n",
    "        for idx, line in enumerate(file):\n",
    "            if idx == 0:\n",
    "                continue\n",
    "            labels.append(line[0])\n",
    "            sentences.append(line[1])\n",
    "            \n",
    "    return labels, sentences"
   ]
  },
  {
   "cell_type": "code",
   "execution_count": 4,
   "metadata": {},
   "outputs": [
    {
     "name": "stdout",
     "output_type": "stream",
     "text": [
      "2210\n"
     ]
    }
   ],
   "source": [
    "binary_labels, binary_sentences = get_labels_and_sentences(filename_test_binary)\n",
    "fg_labels, fg_sentences = get_labels_and_sentences(filename_test_fine_grained)\n",
    "\n",
    "print(len(binary_labels))"
   ]
  },
  {
   "cell_type": "code",
   "execution_count": 5,
   "metadata": {},
   "outputs": [
    {
     "data": {
      "text/html": [
       "<div>\n",
       "<style scoped>\n",
       "    .dataframe tbody tr th:only-of-type {\n",
       "        vertical-align: middle;\n",
       "    }\n",
       "\n",
       "    .dataframe tbody tr th {\n",
       "        vertical-align: top;\n",
       "    }\n",
       "\n",
       "    .dataframe thead th {\n",
       "        text-align: right;\n",
       "    }\n",
       "</style>\n",
       "<table border=\"1\" class=\"dataframe\">\n",
       "  <thead>\n",
       "    <tr style=\"text-align: right;\">\n",
       "      <th></th>\n",
       "      <th>label</th>\n",
       "      <th>text</th>\n",
       "    </tr>\n",
       "  </thead>\n",
       "  <tbody>\n",
       "    <tr>\n",
       "      <th>0</th>\n",
       "      <td>0</td>\n",
       "      <td>effective but too-tepid biopic</td>\n",
       "    </tr>\n",
       "    <tr>\n",
       "      <th>1</th>\n",
       "      <td>1</td>\n",
       "      <td>if you sometimes like to go to the movies to h...</td>\n",
       "    </tr>\n",
       "    <tr>\n",
       "      <th>2</th>\n",
       "      <td>1</td>\n",
       "      <td>emerges as something rare , an issue movie tha...</td>\n",
       "    </tr>\n",
       "    <tr>\n",
       "      <th>3</th>\n",
       "      <td>0</td>\n",
       "      <td>the film provides some great insight into the ...</td>\n",
       "    </tr>\n",
       "    <tr>\n",
       "      <th>4</th>\n",
       "      <td>1</td>\n",
       "      <td>offers that rare combination of entertainment ...</td>\n",
       "    </tr>\n",
       "  </tbody>\n",
       "</table>\n",
       "</div>"
      ],
      "text/plain": [
       "  label                                               text\n",
       "0     0                     effective but too-tepid biopic\n",
       "1     1  if you sometimes like to go to the movies to h...\n",
       "2     1  emerges as something rare , an issue movie tha...\n",
       "3     0  the film provides some great insight into the ...\n",
       "4     1  offers that rare combination of entertainment ..."
      ]
     },
     "execution_count": 5,
     "metadata": {},
     "output_type": "execute_result"
    }
   ],
   "source": [
    "df_bert_test_binary = pd.DataFrame({\n",
    "     'label': binary_labels,\n",
    "     'text': binary_sentences\n",
    "})\n",
    "\n",
    "df_bert_test_binary.head()"
   ]
  },
  {
   "cell_type": "code",
   "execution_count": 6,
   "metadata": {},
   "outputs": [
    {
     "data": {
      "text/html": [
       "<div>\n",
       "<style scoped>\n",
       "    .dataframe tbody tr th:only-of-type {\n",
       "        vertical-align: middle;\n",
       "    }\n",
       "\n",
       "    .dataframe tbody tr th {\n",
       "        vertical-align: top;\n",
       "    }\n",
       "\n",
       "    .dataframe thead th {\n",
       "        text-align: right;\n",
       "    }\n",
       "</style>\n",
       "<table border=\"1\" class=\"dataframe\">\n",
       "  <thead>\n",
       "    <tr style=\"text-align: right;\">\n",
       "      <th></th>\n",
       "      <th>label</th>\n",
       "      <th>text</th>\n",
       "    </tr>\n",
       "  </thead>\n",
       "  <tbody>\n",
       "    <tr>\n",
       "      <th>0</th>\n",
       "      <td>2</td>\n",
       "      <td>effective but too-tepid biopic</td>\n",
       "    </tr>\n",
       "    <tr>\n",
       "      <th>1</th>\n",
       "      <td>3</td>\n",
       "      <td>if you sometimes like to go to the movies to h...</td>\n",
       "    </tr>\n",
       "    <tr>\n",
       "      <th>2</th>\n",
       "      <td>4</td>\n",
       "      <td>emerges as something rare , an issue movie tha...</td>\n",
       "    </tr>\n",
       "    <tr>\n",
       "      <th>3</th>\n",
       "      <td>2</td>\n",
       "      <td>the film provides some great insight into the ...</td>\n",
       "    </tr>\n",
       "    <tr>\n",
       "      <th>4</th>\n",
       "      <td>4</td>\n",
       "      <td>offers that rare combination of entertainment ...</td>\n",
       "    </tr>\n",
       "  </tbody>\n",
       "</table>\n",
       "</div>"
      ],
      "text/plain": [
       "  label                                               text\n",
       "0     2                     effective but too-tepid biopic\n",
       "1     3  if you sometimes like to go to the movies to h...\n",
       "2     4  emerges as something rare , an issue movie tha...\n",
       "3     2  the film provides some great insight into the ...\n",
       "4     4  offers that rare combination of entertainment ..."
      ]
     },
     "execution_count": 6,
     "metadata": {},
     "output_type": "execute_result"
    }
   ],
   "source": [
    "df_bert_test_fg = pd.DataFrame({\n",
    "     'label': fg_labels,\n",
    "     'text': fg_sentences\n",
    "})\n",
    "\n",
    "df_bert_test_fg.head()"
   ]
  },
  {
   "cell_type": "code",
   "execution_count": 12,
   "metadata": {},
   "outputs": [
    {
     "name": "stdout",
     "output_type": "stream",
     "text": [
      "2210\n",
      "[[1033  268]\n",
      " [ 102  807]]\n",
      "Accuracy for SST-2 root nodes: 0.832579185520362\n"
     ]
    },
    {
     "data": {
      "image/png": "[encoded data removed]",
      "text/plain": [
       "<Figure size 720x504 with 2 Axes>"
      ]
     },
     "metadata": {
      "needs_background": "light"
     },
     "output_type": "display_data"
    }
   ],
   "source": [
    "path_to_binary_result = \"bert_output_binary/test_results.tsv\"\n",
    "\n",
    "label_results=[]\n",
    "pd.DataFrame()\n",
    "\n",
    "with open(path_to_binary_result) as file:\n",
    "    result = csv.reader(file, delimiter=\"\\t\")\n",
    "    for row in result:\n",
    "        data =[float(i) for i in row]\n",
    "        label_results.append(np.argmax(data))\n",
    "\n",
    "print(len(label_results))\n",
    "df_results=pd.DataFrame()\n",
    "df_results=pd.DataFrame(label_results)\n",
    "df_results[0]\n",
    "\n",
    "for i in range(0, len(binary_labels)): \n",
    "     binary_labels[i] = int(binary_labels[i])\n",
    "\n",
    "cm = confusion_matrix(binary_labels, df_results[0])\n",
    "df_cm = pd.DataFrame(cm, index = [i for i in \"01\"],\n",
    "                  columns = [i for i in \"01\"])\n",
    "print(cm)\n",
    "plt.figure(figsize = (10,7))\n",
    "sn.heatmap(df_cm, annot=True)\n",
    "\n",
    "print(\"Accuracy for SST-2 root nodes:\", metrics.accuracy_score(binary_labels, df_results[0]))"
   ]
  },
  {
   "cell_type": "code",
   "execution_count": 11,
   "metadata": {},
   "outputs": [
    {
     "name": "stdout",
     "output_type": "stream",
     "text": [
      "2210\n",
      "[[101 123  36  17   2]\n",
      " [ 98 336 108  74  17]\n",
      " [ 22 136 107 102  22]\n",
      " [ 16  52  67 286  89]\n",
      " [  6  19  19 171 184]]\n",
      "\n",
      "Accuracy for SST-5: 0.4588\n"
     ]
    },
    {
     "data": {
      "image/png": "[encoded data removed]",
      "text/plain": [
       "<Figure size 720x504 with 2 Axes>"
      ]
     },
     "metadata": {
      "needs_background": "light"
     },
     "output_type": "display_data"
    }
   ],
   "source": [
    "path_to_binary_result = \"bert_fine_grained/small_bert/test_results.tsv\"\n",
    "\n",
    "label_results=[]\n",
    "pd.DataFrame()\n",
    "\n",
    "with open(path_to_binary_result) as file:\n",
    "    result = csv.reader(file, delimiter=\"\\t\")\n",
    "    for row in result:\n",
    "        data =[float(i) for i in row]\n",
    "        label_results.append(np.argmax(data))\n",
    "\n",
    "print(len(label_results))\n",
    "df_results=pd.DataFrame()\n",
    "df_results=pd.DataFrame(label_results)\n",
    "df_results[0]\n",
    "\n",
    "for i in range(0, len(fg_labels)): \n",
    "     fg_labels[i] = int(fg_labels[i])\n",
    "\n",
    "cm = confusion_matrix(fg_labels, df_results[0])\n",
    "df_cm = pd.DataFrame(cm, index = [i for i in \"01234\"],\n",
    "                  columns = [i for i in \"01234\"])\n",
    "print(cm)\n",
    "plt.figure(figsize = (10,7))\n",
    "sn.heatmap(df_cm, annot=True)\n",
    "\n",
    "print()\n",
    "print(\"Accuracy for SST-5: %.4f\" % metrics.accuracy_score(fg_labels, df_results[0]))"
   ]
  },
  {
   "cell_type": "code",
   "execution_count": null,
   "metadata": {},
   "outputs": [],
   "source": []
  }
 ],
 "metadata": {
  "kernelspec": {
   "display_name": "Python 3",
   "language": "python",
   "name": "python3"
  },
  "language_info": {
   "codemirror_mode": {
    "name": "ipython",
    "version": 3
   },
   "file_extension": ".py",
   "mimetype": "text/x-python",
   "name": "python",
   "nbconvert_exporter": "python",
   "pygments_lexer": "ipython3",
   "version": "3.6.9"
  }
 },
 "nbformat": 4,
 "nbformat_minor": 2
}
